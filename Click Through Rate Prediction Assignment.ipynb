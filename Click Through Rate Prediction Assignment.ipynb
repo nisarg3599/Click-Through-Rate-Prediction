{
 "cells": [
  {
   "cell_type": "markdown",
   "metadata": {
    "id": "Trk-Y9MgM__U"
   },
   "source": [
    "## Click-Through Rate Prediction Assignment"
   ]
  },
  {
   "cell_type": "markdown",
   "metadata": {
    "id": "Pp1trz_uNCwD"
   },
   "source": [
    "Perform missing value and outlier treatment, if needed, in the data set you received. >> Done\n",
    "Perform categorical variable treatment:\n",
    "Identify the categorical columns \n",
    "Use suitable techniques to treat these categorical columns. For instance, as explained earlier, the banner position is a categorical variable. \n",
    "Perform a train-test split in the data set (the usual split followed in the industry is 70-30 or 80-20).\n",
    "Identify the 3 classification methods you will use in the data set, and explain the reason you chose those 3 methods in the notebook file you will share in the submission process.\n",
    "For all 3 methods, use appropriate evaluation metrics to assess model performance. Also, evaluate the models' basis the cross-validation.\n",
    "Compare which methods work best based on the evaluation metrics mentioned in the previous point.\n",
    "Use model simplification techniques like feature creation and selection, to improve model predictability. \n",
    "After building the best model possible, explain the risks associated with adopting the model to the business team (You can create a 3-5 slide presentation)\n",
    "Interpret the evaluation metric of choice \n",
    "Explain the implications of errors made in the prediction by the model."
   ]
  },
  {
   "cell_type": "markdown",
   "metadata": {
    "id": "AYZ73kz8_cMR"
   },
   "source": [
    "Importing necessary libraries"
   ]
  },
  {
   "cell_type": "code",
   "execution_count": 1,
   "metadata": {
    "id": "LI6i9NhCM__o"
   },
   "outputs": [],
   "source": [
    "import numpy as np\n",
    "import pandas as pd\n",
    "import matplotlib\n",
    "import matplotlib.pyplot as plt\n",
    "import seaborn as sns\n",
    "import sklearn\n",
    "\n",
    "from sklearn.preprocessing import StandardScaler\n",
    "from sklearn.model_selection import train_test_split\n",
    "from sklearn.linear_model import LogisticRegression\n",
    "from sklearn.metrics import precision_score,recall_score,accuracy_score,f1_score,confusion_matrix,roc_auc_score,classification_report\n",
    "from sklearn.ensemble import RandomForestClassifier\n",
    "from xgboost import XGBClassifier\n",
    "\n",
    "%matplotlib inline\n",
    "\n",
    "import warnings\n",
    "warnings.simplefilter(\"ignore\")"
   ]
  },
  {
   "cell_type": "markdown",
   "metadata": {
    "id": "L1GXqU8V_hHZ"
   },
   "source": [
    "Read the data"
   ]
  },
  {
   "cell_type": "code",
   "execution_count": 2,
   "metadata": {
    "colab": {
     "base_uri": "https://localhost:8080/",
     "height": 236
    },
    "id": "LgwkHXteM__v",
    "outputId": "48a43002-0abb-4d21-a6a6-ed6d59674edd"
   },
   "outputs": [
    {
     "data": {
      "text/html": [
       "<div>\n",
       "<style scoped>\n",
       "    .dataframe tbody tr th:only-of-type {\n",
       "        vertical-align: middle;\n",
       "    }\n",
       "\n",
       "    .dataframe tbody tr th {\n",
       "        vertical-align: top;\n",
       "    }\n",
       "\n",
       "    .dataframe thead th {\n",
       "        text-align: right;\n",
       "    }\n",
       "</style>\n",
       "<table border=\"1\" class=\"dataframe\">\n",
       "  <thead>\n",
       "    <tr style=\"text-align: right;\">\n",
       "      <th></th>\n",
       "      <th>click</th>\n",
       "      <th>C1</th>\n",
       "      <th>banner_pos</th>\n",
       "      <th>site_id</th>\n",
       "      <th>site_domain</th>\n",
       "      <th>site_category</th>\n",
       "      <th>app_id</th>\n",
       "      <th>app_domain</th>\n",
       "      <th>app_category</th>\n",
       "      <th>device_id</th>\n",
       "      <th>...</th>\n",
       "      <th>C17</th>\n",
       "      <th>C18</th>\n",
       "      <th>C19</th>\n",
       "      <th>C20</th>\n",
       "      <th>C21</th>\n",
       "      <th>month</th>\n",
       "      <th>dayofweek</th>\n",
       "      <th>day</th>\n",
       "      <th>hour</th>\n",
       "      <th>y</th>\n",
       "    </tr>\n",
       "  </thead>\n",
       "  <tbody>\n",
       "    <tr>\n",
       "      <th>0</th>\n",
       "      <td>False</td>\n",
       "      <td>1005</td>\n",
       "      <td>1</td>\n",
       "      <td>856e6d3f</td>\n",
       "      <td>58a89a43</td>\n",
       "      <td>f028772b</td>\n",
       "      <td>ecad2386</td>\n",
       "      <td>7801e8d9</td>\n",
       "      <td>07d7df22</td>\n",
       "      <td>a99f214a</td>\n",
       "      <td>...</td>\n",
       "      <td>2528</td>\n",
       "      <td>0</td>\n",
       "      <td>39</td>\n",
       "      <td>100075</td>\n",
       "      <td>221</td>\n",
       "      <td>10</td>\n",
       "      <td>1</td>\n",
       "      <td>28</td>\n",
       "      <td>14</td>\n",
       "      <td>0</td>\n",
       "    </tr>\n",
       "    <tr>\n",
       "      <th>1</th>\n",
       "      <td>True</td>\n",
       "      <td>1005</td>\n",
       "      <td>1</td>\n",
       "      <td>e151e245</td>\n",
       "      <td>7e091613</td>\n",
       "      <td>f028772b</td>\n",
       "      <td>ecad2386</td>\n",
       "      <td>7801e8d9</td>\n",
       "      <td>07d7df22</td>\n",
       "      <td>a99f214a</td>\n",
       "      <td>...</td>\n",
       "      <td>1934</td>\n",
       "      <td>2</td>\n",
       "      <td>39</td>\n",
       "      <td>-1</td>\n",
       "      <td>16</td>\n",
       "      <td>10</td>\n",
       "      <td>2</td>\n",
       "      <td>22</td>\n",
       "      <td>19</td>\n",
       "      <td>1</td>\n",
       "    </tr>\n",
       "    <tr>\n",
       "      <th>2</th>\n",
       "      <td>False</td>\n",
       "      <td>1005</td>\n",
       "      <td>0</td>\n",
       "      <td>e3c09f3a</td>\n",
       "      <td>d262cf1e</td>\n",
       "      <td>28905ebd</td>\n",
       "      <td>ecad2386</td>\n",
       "      <td>7801e8d9</td>\n",
       "      <td>07d7df22</td>\n",
       "      <td>a99f214a</td>\n",
       "      <td>...</td>\n",
       "      <td>2552</td>\n",
       "      <td>3</td>\n",
       "      <td>167</td>\n",
       "      <td>100202</td>\n",
       "      <td>23</td>\n",
       "      <td>10</td>\n",
       "      <td>3</td>\n",
       "      <td>23</td>\n",
       "      <td>18</td>\n",
       "      <td>0</td>\n",
       "    </tr>\n",
       "    <tr>\n",
       "      <th>3</th>\n",
       "      <td>False</td>\n",
       "      <td>1002</td>\n",
       "      <td>0</td>\n",
       "      <td>0da94452</td>\n",
       "      <td>248e439f</td>\n",
       "      <td>50e219e0</td>\n",
       "      <td>ecad2386</td>\n",
       "      <td>7801e8d9</td>\n",
       "      <td>07d7df22</td>\n",
       "      <td>0fa578fd</td>\n",
       "      <td>...</td>\n",
       "      <td>2478</td>\n",
       "      <td>3</td>\n",
       "      <td>167</td>\n",
       "      <td>100074</td>\n",
       "      <td>23</td>\n",
       "      <td>10</td>\n",
       "      <td>2</td>\n",
       "      <td>22</td>\n",
       "      <td>19</td>\n",
       "      <td>0</td>\n",
       "    </tr>\n",
       "    <tr>\n",
       "      <th>4</th>\n",
       "      <td>True</td>\n",
       "      <td>1005</td>\n",
       "      <td>0</td>\n",
       "      <td>1fbe01fe</td>\n",
       "      <td>f3845767</td>\n",
       "      <td>28905ebd</td>\n",
       "      <td>ecad2386</td>\n",
       "      <td>7801e8d9</td>\n",
       "      <td>07d7df22</td>\n",
       "      <td>a99f214a</td>\n",
       "      <td>...</td>\n",
       "      <td>1722</td>\n",
       "      <td>0</td>\n",
       "      <td>35</td>\n",
       "      <td>-1</td>\n",
       "      <td>79</td>\n",
       "      <td>10</td>\n",
       "      <td>1</td>\n",
       "      <td>21</td>\n",
       "      <td>8</td>\n",
       "      <td>1</td>\n",
       "    </tr>\n",
       "  </tbody>\n",
       "</table>\n",
       "<p>5 rows × 27 columns</p>\n",
       "</div>"
      ],
      "text/plain": [
       "   click    C1  banner_pos   site_id site_domain site_category    app_id  \\\n",
       "0  False  1005           1  856e6d3f    58a89a43      f028772b  ecad2386   \n",
       "1   True  1005           1  e151e245    7e091613      f028772b  ecad2386   \n",
       "2  False  1005           0  e3c09f3a    d262cf1e      28905ebd  ecad2386   \n",
       "3  False  1002           0  0da94452    248e439f      50e219e0  ecad2386   \n",
       "4   True  1005           0  1fbe01fe    f3845767      28905ebd  ecad2386   \n",
       "\n",
       "  app_domain app_category device_id  ...   C17 C18  C19     C20  C21  month  \\\n",
       "0   7801e8d9     07d7df22  a99f214a  ...  2528   0   39  100075  221     10   \n",
       "1   7801e8d9     07d7df22  a99f214a  ...  1934   2   39      -1   16     10   \n",
       "2   7801e8d9     07d7df22  a99f214a  ...  2552   3  167  100202   23     10   \n",
       "3   7801e8d9     07d7df22  0fa578fd  ...  2478   3  167  100074   23     10   \n",
       "4   7801e8d9     07d7df22  a99f214a  ...  1722   0   35      -1   79     10   \n",
       "\n",
       "   dayofweek  day  hour  y  \n",
       "0          1   28    14  0  \n",
       "1          2   22    19  1  \n",
       "2          3   23    18  0  \n",
       "3          2   22    19  0  \n",
       "4          1   21     8  1  \n",
       "\n",
       "[5 rows x 27 columns]"
      ]
     },
     "execution_count": 2,
     "metadata": {},
     "output_type": "execute_result"
    }
   ],
   "source": [
    "df = pd.read_csv('data.csv')\n",
    "df.head()"
   ]
  },
  {
   "attachments": {
    "image-4.png": {
     "image/png": "[encoded data removed]"
    }
   },
   "cell_type": "markdown",
   "metadata": {},
   "source": [
    "# Info \n",
    "\n",
    "![image-4.png](attachment:image-4.png)"
   ]
  },
  {
   "cell_type": "code",
   "execution_count": 3,
   "metadata": {
    "colab": {
     "base_uri": "https://localhost:8080/"
    },
    "id": "RZU_WitcM__y",
    "outputId": "2d46bdba-0c22-4221-bfb9-9a6db534d737"
   },
   "outputs": [
    {
     "name": "stdout",
     "output_type": "stream",
     "text": [
      "<class 'pandas.core.frame.DataFrame'>\n",
      "RangeIndex: 99999 entries, 0 to 99998\n",
      "Data columns (total 27 columns):\n",
      " #   Column            Non-Null Count  Dtype \n",
      "---  ------            --------------  ----- \n",
      " 0   click             99999 non-null  bool  \n",
      " 1   C1                99999 non-null  int64 \n",
      " 2   banner_pos        99999 non-null  int64 \n",
      " 3   site_id           99999 non-null  object\n",
      " 4   site_domain       99999 non-null  object\n",
      " 5   site_category     99999 non-null  object\n",
      " 6   app_id            99999 non-null  object\n",
      " 7   app_domain        99999 non-null  object\n",
      " 8   app_category      99999 non-null  object\n",
      " 9   device_id         99999 non-null  object\n",
      " 10  device_ip         99999 non-null  object\n",
      " 11  device_model      99999 non-null  object\n",
      " 12  device_type       99999 non-null  int64 \n",
      " 13  device_conn_type  99999 non-null  int64 \n",
      " 14  C14               99999 non-null  int64 \n",
      " 15  C15               99999 non-null  int64 \n",
      " 16  C16               99999 non-null  int64 \n",
      " 17  C17               99999 non-null  int64 \n",
      " 18  C18               99999 non-null  int64 \n",
      " 19  C19               99999 non-null  int64 \n",
      " 20  C20               99999 non-null  int64 \n",
      " 21  C21               99999 non-null  int64 \n",
      " 22  month             99999 non-null  int64 \n",
      " 23  dayofweek         99999 non-null  int64 \n",
      " 24  day               99999 non-null  int64 \n",
      " 25  hour              99999 non-null  int64 \n",
      " 26  y                 99999 non-null  int64 \n",
      "dtypes: bool(1), int64(17), object(9)\n",
      "memory usage: 19.9+ MB\n"
     ]
    }
   ],
   "source": [
    "# info to Identify the categorical columns  , Object are categorical column\n",
    "df.info()"
   ]
  },
  {
   "cell_type": "code",
   "execution_count": 4,
   "metadata": {
    "colab": {
     "base_uri": "https://localhost:8080/",
     "height": 312
    },
    "id": "2mY4v5RwM__0",
    "outputId": "38ab2a54-492a-4013-c375-af0ed9743106"
   },
   "outputs": [
    {
     "data": {
      "text/plain": [
       "<AxesSubplot:xlabel='click'>"
      ]
     },
     "execution_count": 4,
     "metadata": {},
     "output_type": "execute_result"
    },
    {
     "data": {
      "image/png": "[encoded data removed]",
      "text/plain": [
       "<Figure size 432x288 with 1 Axes>"
      ]
     },
     "metadata": {
      "needs_background": "light"
     },
     "output_type": "display_data"
    }
   ],
   "source": [
    "df.groupby('click').size().plot(kind='bar')"
   ]
  },
  {
   "cell_type": "markdown",
   "metadata": {
    "id": "FWbresi8M__3"
   },
   "source": [
    "### 1.) Perform missing value and outlier treatment, if needed, in the data set you received."
   ]
  },
  {
   "cell_type": "code",
   "execution_count": 5,
   "metadata": {
    "colab": {
     "base_uri": "https://localhost:8080/"
    },
    "id": "ZqJyi-dBM__5",
    "outputId": "b3e7beee-5a90-42a8-d4d3-c8d66b42a26d"
   },
   "outputs": [
    {
     "name": "stdout",
     "output_type": "stream",
     "text": [
      "click               0\n",
      "C1                  0\n",
      "banner_pos          0\n",
      "site_id             0\n",
      "site_domain         0\n",
      "site_category       0\n",
      "app_id              0\n",
      "app_domain          0\n",
      "app_category        0\n",
      "device_id           0\n",
      "device_ip           0\n",
      "device_model        0\n",
      "device_type         0\n",
      "device_conn_type    0\n",
      "C14                 0\n",
      "C15                 0\n",
      "C16                 0\n",
      "C17                 0\n",
      "C18                 0\n",
      "C19                 0\n",
      "C20                 0\n",
      "C21                 0\n",
      "month               0\n",
      "dayofweek           0\n",
      "day                 0\n",
      "hour                0\n",
      "y                   0\n",
      "dtype: int64\n"
     ]
    }
   ],
   "source": [
    "# Checking Missing Value\n",
    "print(df.isna().sum())"
   ]
  },
  {
   "cell_type": "code",
   "execution_count": 6,
   "metadata": {
    "colab": {
     "base_uri": "https://localhost:8080/"
    },
    "id": "3CCbUYzFM__8",
    "outputId": "3119bdc3-b379-4f76-ada2-114802862e7d"
   },
   "outputs": [
    {
     "name": "stdout",
     "output_type": "stream",
     "text": [
      "       click    C1  banner_pos   site_id site_domain site_category    app_id  \\\n",
      "396    False  1005           0  85f751fd    c4e18dd6      50e219e0  d36838b1   \n",
      "5750   False  1005           1  a7853007    7e091613      f028772b  ecad2386   \n",
      "7491   False  1005           0  5bcf81a2    9d54950b      f028772b  ecad2386   \n",
      "7888   False  1005           0  85f751fd    c4e18dd6      50e219e0  d36838b1   \n",
      "8691   False  1005           1  a7853007    7e091613      f028772b  ecad2386   \n",
      "...      ...   ...         ...       ...         ...           ...       ...   \n",
      "99823  False  1005           0  c5944aac    2d235ae0      28905ebd  ecad2386   \n",
      "99836  False  1005           0  5bcf81a2    9d54950b      f028772b  ecad2386   \n",
      "99892   True  1005           0  85f751fd    c4e18dd6      50e219e0  316440d7   \n",
      "99905  False  1005           1  e8f79e60    c4342784      f028772b  ecad2386   \n",
      "99914  False  1005           1  17caea14    0dde25ec      f028772b  ecad2386   \n",
      "\n",
      "      app_domain app_category device_id  ...   C17 C18   C19     C20  C21  \\\n",
      "396     0e8616ad     0f2161f8  a99f214a  ...  2726   3   803      -1  229   \n",
      "5750    7801e8d9     07d7df22  a99f214a  ...   906   3  1451  100156   61   \n",
      "7491    7801e8d9     07d7df22  a99f214a  ...  2369   0   809  100111   46   \n",
      "7888    0e8616ad     0f2161f8  a99f214a  ...  2726   3   803  100093  229   \n",
      "8691    7801e8d9     07d7df22  a99f214a  ...  2572   3   297  100156   42   \n",
      "...          ...          ...       ...  ...   ...  ..   ...     ...  ...   \n",
      "99823   7801e8d9     07d7df22  a99f214a  ...  2513   3    35  100135   68   \n",
      "99836   7801e8d9     07d7df22  a99f214a  ...  2636   0    47  100111   70   \n",
      "99892   33da2e74     f95efa07  a99f214a  ...  2507   0    35      -1  157   \n",
      "99905   7801e8d9     07d7df22  a99f214a  ...  2374   3    39  100119   23   \n",
      "99914   7801e8d9     07d7df22  a99f214a  ...   572   2    39      -1   32   \n",
      "\n",
      "       month  dayofweek  day  hour  y  \n",
      "396       10          3   30     5  0  \n",
      "5750      10          2   22    12  0  \n",
      "7491      10          3   23    23  0  \n",
      "7888      10          3   30     4  0  \n",
      "8691      10          5   25     8  0  \n",
      "...      ...        ...  ...   ... ..  \n",
      "99823     10          2   22     5  0  \n",
      "99836     10          2   29     7  0  \n",
      "99892     10          2   22     8  1  \n",
      "99905     10          3   23     9  0  \n",
      "99914     10          1   21    11  0  \n",
      "\n",
      "[658 rows x 27 columns]\n"
     ]
    }
   ],
   "source": [
    "duplicate=df[df.duplicated()]\n",
    "print(duplicate)"
   ]
  },
  {
   "cell_type": "code",
   "execution_count": 7,
   "metadata": {
    "id": "KV0MmpblM___"
   },
   "outputs": [],
   "source": [
    "df=df.drop_duplicates()"
   ]
  },
  {
   "cell_type": "code",
   "execution_count": 8,
   "metadata": {
    "colab": {
     "base_uri": "https://localhost:8080/",
     "height": 365
    },
    "id": "Hye9R9S8NAAC",
    "outputId": "b426ad0d-3ca9-4374-87c8-62aec34a0692"
   },
   "outputs": [
    {
     "data": {
      "text/html": [
       "<div>\n",
       "<style scoped>\n",
       "    .dataframe tbody tr th:only-of-type {\n",
       "        vertical-align: middle;\n",
       "    }\n",
       "\n",
       "    .dataframe tbody tr th {\n",
       "        vertical-align: top;\n",
       "    }\n",
       "\n",
       "    .dataframe thead th {\n",
       "        text-align: right;\n",
       "    }\n",
       "</style>\n",
       "<table border=\"1\" class=\"dataframe\">\n",
       "  <thead>\n",
       "    <tr style=\"text-align: right;\">\n",
       "      <th></th>\n",
       "      <th>C1</th>\n",
       "      <th>banner_pos</th>\n",
       "      <th>device_type</th>\n",
       "      <th>device_conn_type</th>\n",
       "      <th>C14</th>\n",
       "      <th>C15</th>\n",
       "      <th>C16</th>\n",
       "      <th>C17</th>\n",
       "      <th>C18</th>\n",
       "      <th>C19</th>\n",
       "      <th>C20</th>\n",
       "      <th>C21</th>\n",
       "      <th>month</th>\n",
       "      <th>dayofweek</th>\n",
       "      <th>day</th>\n",
       "      <th>hour</th>\n",
       "      <th>y</th>\n",
       "    </tr>\n",
       "  </thead>\n",
       "  <tbody>\n",
       "    <tr>\n",
       "      <th>count</th>\n",
       "      <td>99341.000000</td>\n",
       "      <td>99341.000000</td>\n",
       "      <td>99341.000000</td>\n",
       "      <td>99341.000000</td>\n",
       "      <td>99341.000000</td>\n",
       "      <td>99341.000000</td>\n",
       "      <td>99341.000000</td>\n",
       "      <td>99341.000000</td>\n",
       "      <td>99341.000000</td>\n",
       "      <td>99341.000000</td>\n",
       "      <td>99341.000000</td>\n",
       "      <td>99341.000000</td>\n",
       "      <td>99341.0</td>\n",
       "      <td>99341.000000</td>\n",
       "      <td>99341.000000</td>\n",
       "      <td>99341.000000</td>\n",
       "      <td>99341.000000</td>\n",
       "    </tr>\n",
       "    <tr>\n",
       "      <th>mean</th>\n",
       "      <td>1004.967264</td>\n",
       "      <td>0.290213</td>\n",
       "      <td>1.016458</td>\n",
       "      <td>0.329220</td>\n",
       "      <td>18846.561903</td>\n",
       "      <td>318.828882</td>\n",
       "      <td>60.338913</td>\n",
       "      <td>2113.226392</td>\n",
       "      <td>1.436627</td>\n",
       "      <td>226.056694</td>\n",
       "      <td>53294.197975</td>\n",
       "      <td>82.952185</td>\n",
       "      <td>10.0</td>\n",
       "      <td>2.593169</td>\n",
       "      <td>25.483828</td>\n",
       "      <td>11.310365</td>\n",
       "      <td>0.170836</td>\n",
       "    </tr>\n",
       "    <tr>\n",
       "      <th>std</th>\n",
       "      <td>1.094744</td>\n",
       "      <td>0.506145</td>\n",
       "      <td>0.532553</td>\n",
       "      <td>0.855082</td>\n",
       "      <td>4942.636368</td>\n",
       "      <td>21.578787</td>\n",
       "      <td>47.848698</td>\n",
       "      <td>607.163618</td>\n",
       "      <td>1.325966</td>\n",
       "      <td>350.392948</td>\n",
       "      <td>49952.107818</td>\n",
       "      <td>70.049904</td>\n",
       "      <td>0.0</td>\n",
       "      <td>1.725398</td>\n",
       "      <td>2.965049</td>\n",
       "      <td>5.940158</td>\n",
       "      <td>0.376367</td>\n",
       "    </tr>\n",
       "    <tr>\n",
       "      <th>min</th>\n",
       "      <td>1001.000000</td>\n",
       "      <td>0.000000</td>\n",
       "      <td>0.000000</td>\n",
       "      <td>0.000000</td>\n",
       "      <td>375.000000</td>\n",
       "      <td>120.000000</td>\n",
       "      <td>20.000000</td>\n",
       "      <td>112.000000</td>\n",
       "      <td>0.000000</td>\n",
       "      <td>33.000000</td>\n",
       "      <td>-1.000000</td>\n",
       "      <td>1.000000</td>\n",
       "      <td>10.0</td>\n",
       "      <td>0.000000</td>\n",
       "      <td>21.000000</td>\n",
       "      <td>0.000000</td>\n",
       "      <td>0.000000</td>\n",
       "    </tr>\n",
       "    <tr>\n",
       "      <th>25%</th>\n",
       "      <td>1005.000000</td>\n",
       "      <td>0.000000</td>\n",
       "      <td>1.000000</td>\n",
       "      <td>0.000000</td>\n",
       "      <td>16920.000000</td>\n",
       "      <td>320.000000</td>\n",
       "      <td>50.000000</td>\n",
       "      <td>1863.000000</td>\n",
       "      <td>0.000000</td>\n",
       "      <td>35.000000</td>\n",
       "      <td>-1.000000</td>\n",
       "      <td>23.000000</td>\n",
       "      <td>10.0</td>\n",
       "      <td>1.000000</td>\n",
       "      <td>23.000000</td>\n",
       "      <td>7.000000</td>\n",
       "      <td>0.000000</td>\n",
       "    </tr>\n",
       "    <tr>\n",
       "      <th>50%</th>\n",
       "      <td>1005.000000</td>\n",
       "      <td>0.000000</td>\n",
       "      <td>1.000000</td>\n",
       "      <td>0.000000</td>\n",
       "      <td>20346.000000</td>\n",
       "      <td>320.000000</td>\n",
       "      <td>50.000000</td>\n",
       "      <td>2323.000000</td>\n",
       "      <td>2.000000</td>\n",
       "      <td>39.000000</td>\n",
       "      <td>100050.000000</td>\n",
       "      <td>61.000000</td>\n",
       "      <td>10.0</td>\n",
       "      <td>2.000000</td>\n",
       "      <td>26.000000</td>\n",
       "      <td>11.000000</td>\n",
       "      <td>0.000000</td>\n",
       "    </tr>\n",
       "    <tr>\n",
       "      <th>75%</th>\n",
       "      <td>1005.000000</td>\n",
       "      <td>1.000000</td>\n",
       "      <td>1.000000</td>\n",
       "      <td>0.000000</td>\n",
       "      <td>21893.000000</td>\n",
       "      <td>320.000000</td>\n",
       "      <td>50.000000</td>\n",
       "      <td>2526.000000</td>\n",
       "      <td>3.000000</td>\n",
       "      <td>171.000000</td>\n",
       "      <td>100084.000000</td>\n",
       "      <td>100.000000</td>\n",
       "      <td>10.0</td>\n",
       "      <td>4.000000</td>\n",
       "      <td>28.000000</td>\n",
       "      <td>16.000000</td>\n",
       "      <td>0.000000</td>\n",
       "    </tr>\n",
       "    <tr>\n",
       "      <th>max</th>\n",
       "      <td>1012.000000</td>\n",
       "      <td>7.000000</td>\n",
       "      <td>5.000000</td>\n",
       "      <td>5.000000</td>\n",
       "      <td>24043.000000</td>\n",
       "      <td>1024.000000</td>\n",
       "      <td>1024.000000</td>\n",
       "      <td>2757.000000</td>\n",
       "      <td>3.000000</td>\n",
       "      <td>1839.000000</td>\n",
       "      <td>100248.000000</td>\n",
       "      <td>255.000000</td>\n",
       "      <td>10.0</td>\n",
       "      <td>6.000000</td>\n",
       "      <td>30.000000</td>\n",
       "      <td>23.000000</td>\n",
       "      <td>1.000000</td>\n",
       "    </tr>\n",
       "  </tbody>\n",
       "</table>\n",
       "</div>"
      ],
      "text/plain": [
       "                 C1    banner_pos   device_type  device_conn_type  \\\n",
       "count  99341.000000  99341.000000  99341.000000      99341.000000   \n",
       "mean    1004.967264      0.290213      1.016458          0.329220   \n",
       "std        1.094744      0.506145      0.532553          0.855082   \n",
       "min     1001.000000      0.000000      0.000000          0.000000   \n",
       "25%     1005.000000      0.000000      1.000000          0.000000   \n",
       "50%     1005.000000      0.000000      1.000000          0.000000   \n",
       "75%     1005.000000      1.000000      1.000000          0.000000   \n",
       "max     1012.000000      7.000000      5.000000          5.000000   \n",
       "\n",
       "                C14           C15           C16           C17           C18  \\\n",
       "count  99341.000000  99341.000000  99341.000000  99341.000000  99341.000000   \n",
       "mean   18846.561903    318.828882     60.338913   2113.226392      1.436627   \n",
       "std     4942.636368     21.578787     47.848698    607.163618      1.325966   \n",
       "min      375.000000    120.000000     20.000000    112.000000      0.000000   \n",
       "25%    16920.000000    320.000000     50.000000   1863.000000      0.000000   \n",
       "50%    20346.000000    320.000000     50.000000   2323.000000      2.000000   \n",
       "75%    21893.000000    320.000000     50.000000   2526.000000      3.000000   \n",
       "max    24043.000000   1024.000000   1024.000000   2757.000000      3.000000   \n",
       "\n",
       "                C19            C20           C21    month     dayofweek  \\\n",
       "count  99341.000000   99341.000000  99341.000000  99341.0  99341.000000   \n",
       "mean     226.056694   53294.197975     82.952185     10.0      2.593169   \n",
       "std      350.392948   49952.107818     70.049904      0.0      1.725398   \n",
       "min       33.000000      -1.000000      1.000000     10.0      0.000000   \n",
       "25%       35.000000      -1.000000     23.000000     10.0      1.000000   \n",
       "50%       39.000000  100050.000000     61.000000     10.0      2.000000   \n",
       "75%      171.000000  100084.000000    100.000000     10.0      4.000000   \n",
       "max     1839.000000  100248.000000    255.000000     10.0      6.000000   \n",
       "\n",
       "                day          hour             y  \n",
       "count  99341.000000  99341.000000  99341.000000  \n",
       "mean      25.483828     11.310365      0.170836  \n",
       "std        2.965049      5.940158      0.376367  \n",
       "min       21.000000      0.000000      0.000000  \n",
       "25%       23.000000      7.000000      0.000000  \n",
       "50%       26.000000     11.000000      0.000000  \n",
       "75%       28.000000     16.000000      0.000000  \n",
       "max       30.000000     23.000000      1.000000  "
      ]
     },
     "execution_count": 8,
     "metadata": {},
     "output_type": "execute_result"
    }
   ],
   "source": [
    "df.describe()"
   ]
  },
  {
   "cell_type": "code",
   "execution_count": 9,
   "metadata": {
    "colab": {
     "base_uri": "https://localhost:8080/"
    },
    "id": "GSWTfMm6NAAF",
    "outputId": "c08b0b3a-3fae-45e9-e4fc-43bf6c64e775"
   },
   "outputs": [
    {
     "data": {
      "text/plain": [
       "False    0.829164\n",
       "True     0.170836\n",
       "Name: click, dtype: float64"
      ]
     },
     "execution_count": 9,
     "metadata": {},
     "output_type": "execute_result"
    }
   ],
   "source": [
    "df['click'].value_counts() /df.shape[0]"
   ]
  },
  {
   "cell_type": "markdown",
   "metadata": {
    "id": "-47sXY30NAAG"
   },
   "source": [
    "## 2.) Perform categorical variable treatment"
   ]
  },
  {
   "cell_type": "markdown",
   "metadata": {},
   "source": [
    "2.1) Identify the categorical columns "
   ]
  },
  {
   "cell_type": "code",
   "execution_count": 10,
   "metadata": {},
   "outputs": [
    {
     "data": {
      "text/plain": [
       "Index(['click', 'C1', 'banner_pos', 'device_type', 'device_conn_type', 'C14',\n",
       "       'C15', 'C16', 'C17', 'C18', 'C19', 'C20', 'C21', 'month', 'dayofweek',\n",
       "       'day', 'hour', 'y'],\n",
       "      dtype='object')"
      ]
     },
     "execution_count": 10,
     "metadata": {},
     "output_type": "execute_result"
    }
   ],
   "source": [
    "cols = df.columns\n",
    "num_cols = df._get_numeric_data().columns\n",
    "num_cols"
   ]
  },
  {
   "cell_type": "code",
   "execution_count": 11,
   "metadata": {},
   "outputs": [
    {
     "data": {
      "text/plain": [
       "['device_model',\n",
       " 'app_category',\n",
       " 'device_ip',\n",
       " 'app_domain',\n",
       " 'app_id',\n",
       " 'site_id',\n",
       " 'device_id',\n",
       " 'site_domain',\n",
       " 'site_category']"
      ]
     },
     "execution_count": 11,
     "metadata": {},
     "output_type": "execute_result"
    }
   ],
   "source": [
    "categorical_vrb = list(set(cols) - set(num_cols))\n",
    "categorical_vrb"
   ]
  },
  {
   "cell_type": "markdown",
   "metadata": {},
   "source": [
    "2.2.) Use suitable techniques to treat these categorical columns. For instance, as explained earlier, the banner position is a categorical variable. "
   ]
  },
  {
   "cell_type": "markdown",
   "metadata": {
    "id": "XRWMZH7pNAAI"
   },
   "source": [
    "### banner_pos\n",
    "The banner position seem to be intuitively (paired with good design and envolving design) one of the good predictors for an ad CTR. Before further conclusions, the data format should be analysed:"
   ]
  },
  {
   "cell_type": "code",
   "execution_count": 12,
   "metadata": {
    "colab": {
     "base_uri": "https://localhost:8080/"
    },
    "id": "Ysu3NhZcNAAK",
    "outputId": "9408e1c9-b57e-4127-b365-64a064e98f25"
   },
   "outputs": [
    {
     "data": {
      "text/plain": [
       "array([1, 0, 4, 7, 2, 5, 3], dtype=int64)"
      ]
     },
     "execution_count": 12,
     "metadata": {},
     "output_type": "execute_result"
    }
   ],
   "source": [
    "df['banner_pos'].unique()"
   ]
  },
  {
   "cell_type": "code",
   "execution_count": 13,
   "metadata": {
    "colab": {
     "base_uri": "https://localhost:8080/",
     "height": 352
    },
    "id": "0NZFV5ODNAAL",
    "outputId": "e9cb3119-9d89-4015-ac2f-614f64b83ed7"
   },
   "outputs": [
    {
     "data": {
      "text/plain": [
       "<AxesSubplot:xlabel='banner_pos'>"
      ]
     },
     "execution_count": 13,
     "metadata": {},
     "output_type": "execute_result"
    },
    {
     "data": {
      "image/png": "[encoded data removed]",
      "text/plain": [
       "<Figure size 432x288 with 1 Axes>"
      ]
     },
     "metadata": {
      "needs_background": "light"
     },
     "output_type": "display_data"
    }
   ],
   "source": [
    "sns.boxplot(df['banner_pos'])"
   ]
  },
  {
   "cell_type": "markdown",
   "metadata": {
    "id": "Xqg-Z4N1NAiZ"
   },
   "source": []
  },
  {
   "cell_type": "markdown",
   "metadata": {
    "id": "L7Wm0QSZNAAN"
   },
   "source": [
    "#### The banner_pos comes as an option among 7 integers, and it is not obvious of what it represents. We should not assume that ordering has any meaning (it may very well be that each integer corresponds to a broad 2D position in a webpage). Lets see how it relates to clicks:"
   ]
  },
  {
   "cell_type": "code",
   "execution_count": 14,
   "metadata": {
    "id": "AszaSLAVNAAP"
   },
   "outputs": [],
   "source": [
    "train_banner_pos_group_df = df.groupby(['banner_pos', 'click']).size().unstack()"
   ]
  },
  {
   "cell_type": "code",
   "execution_count": 15,
   "metadata": {
    "colab": {
     "base_uri": "https://localhost:8080/",
     "height": 636
    },
    "id": "6-tVfAiWNAAQ",
    "outputId": "a33ca171-4a63-4b7f-f022-2ab07ed196e6"
   },
   "outputs": [
    {
     "data": {
      "text/plain": [
       "<AxesSubplot:title={'center':'Banner position'}, xlabel='banner_pos'>"
      ]
     },
     "execution_count": 15,
     "metadata": {},
     "output_type": "execute_result"
    },
    {
     "data": {
      "image/png": "[encoded data removed]",
      "text/plain": [
       "<Figure size 1080x720 with 1 Axes>"
      ]
     },
     "metadata": {
      "needs_background": "light"
     },
     "output_type": "display_data"
    }
   ],
   "source": [
    "f, ax = plt.subplots(figsize=(15,10))\n",
    "train_banner_pos_group_df.plot(kind='bar', stacked=True, title='Banner position', ax=ax)"
   ]
  },
  {
   "cell_type": "markdown",
   "metadata": {
    "id": "2Roy4ujzNAAQ"
   },
   "source": [
    "Positions 0 and 1 seem to be the most used ones. We have to make another plot to gain insight over the other variables:"
   ]
  },
  {
   "cell_type": "code",
   "execution_count": 16,
   "metadata": {
    "colab": {
     "base_uri": "https://localhost:8080/",
     "height": 636
    },
    "id": "b-Hz8tzDNAAR",
    "outputId": "5bb9e30d-d663-4f7f-b27c-b6b19d0b317f"
   },
   "outputs": [
    {
     "data": {
      "text/plain": [
       "<AxesSubplot:title={'center':'Banner position'}, xlabel='banner_pos'>"
      ]
     },
     "execution_count": 16,
     "metadata": {},
     "output_type": "execute_result"
    },
    {
     "data": {
      "image/png": "[encoded data removed]",
      "text/plain": [
       "<Figure size 1080x720 with 1 Axes>"
      ]
     },
     "metadata": {
      "needs_background": "light"
     },
     "output_type": "display_data"
    }
   ],
   "source": [
    "f, ax = plt.subplots(figsize=(15,10))\n",
    "train_banner_pos_group_df.iloc[2:].plot(kind='bar', stacked=True, title='Banner position', ax=ax)"
   ]
  },
  {
   "cell_type": "markdown",
   "metadata": {
    "id": "-deE_-yhNAAS"
   },
   "source": [
    "Position 7 seems to be very good for positioning ads. These are the CTRs, normalized by banner position:"
   ]
  },
  {
   "cell_type": "code",
   "execution_count": 17,
   "metadata": {
    "colab": {
     "base_uri": "https://localhost:8080/",
     "height": 301
    },
    "id": "MvabZAUjNAAT",
    "outputId": "96a5c6e5-5dca-4ed8-908f-629edb46d106"
   },
   "outputs": [
    {
     "data": {
      "text/html": [
       "<div>\n",
       "<style scoped>\n",
       "    .dataframe tbody tr th:only-of-type {\n",
       "        vertical-align: middle;\n",
       "    }\n",
       "\n",
       "    .dataframe tbody tr th {\n",
       "        vertical-align: top;\n",
       "    }\n",
       "\n",
       "    .dataframe thead th {\n",
       "        text-align: right;\n",
       "    }\n",
       "</style>\n",
       "<table border=\"1\" class=\"dataframe\">\n",
       "  <thead>\n",
       "    <tr style=\"text-align: right;\">\n",
       "      <th>click</th>\n",
       "      <th>False</th>\n",
       "      <th>True</th>\n",
       "    </tr>\n",
       "    <tr>\n",
       "      <th>banner_pos</th>\n",
       "      <th></th>\n",
       "      <th></th>\n",
       "    </tr>\n",
       "  </thead>\n",
       "  <tbody>\n",
       "    <tr>\n",
       "      <th>0</th>\n",
       "      <td>0.598182</td>\n",
       "      <td>0.119387</td>\n",
       "    </tr>\n",
       "    <tr>\n",
       "      <th>1</th>\n",
       "      <td>0.229694</td>\n",
       "      <td>0.051036</td>\n",
       "    </tr>\n",
       "    <tr>\n",
       "      <th>2</th>\n",
       "      <td>0.000252</td>\n",
       "      <td>0.000050</td>\n",
       "    </tr>\n",
       "    <tr>\n",
       "      <th>3</th>\n",
       "      <td>0.000030</td>\n",
       "      <td>0.000010</td>\n",
       "    </tr>\n",
       "    <tr>\n",
       "      <th>4</th>\n",
       "      <td>0.000181</td>\n",
       "      <td>0.000010</td>\n",
       "    </tr>\n",
       "    <tr>\n",
       "      <th>5</th>\n",
       "      <td>0.000091</td>\n",
       "      <td>NaN</td>\n",
       "    </tr>\n",
       "    <tr>\n",
       "      <th>7</th>\n",
       "      <td>0.000735</td>\n",
       "      <td>0.000342</td>\n",
       "    </tr>\n",
       "  </tbody>\n",
       "</table>\n",
       "</div>"
      ],
      "text/plain": [
       "click          False     True \n",
       "banner_pos                    \n",
       "0           0.598182  0.119387\n",
       "1           0.229694  0.051036\n",
       "2           0.000252  0.000050\n",
       "3           0.000030  0.000010\n",
       "4           0.000181  0.000010\n",
       "5           0.000091       NaN\n",
       "7           0.000735  0.000342"
      ]
     },
     "execution_count": 17,
     "metadata": {},
     "output_type": "execute_result"
    }
   ],
   "source": [
    "train_banner_pos_group_df / df.shape[0]"
   ]
  },
  {
   "cell_type": "code",
   "execution_count": 18,
   "metadata": {
    "colab": {
     "base_uri": "https://localhost:8080/",
     "height": 301
    },
    "id": "m7fPDjNdNAAT",
    "outputId": "b5575b02-1627-4282-e07b-c7fc4bf43a38"
   },
   "outputs": [
    {
     "data": {
      "text/html": [
       "<div>\n",
       "<style scoped>\n",
       "    .dataframe tbody tr th:only-of-type {\n",
       "        vertical-align: middle;\n",
       "    }\n",
       "\n",
       "    .dataframe tbody tr th {\n",
       "        vertical-align: top;\n",
       "    }\n",
       "\n",
       "    .dataframe thead th {\n",
       "        text-align: right;\n",
       "    }\n",
       "</style>\n",
       "<table border=\"1\" class=\"dataframe\">\n",
       "  <thead>\n",
       "    <tr style=\"text-align: right;\">\n",
       "      <th>click</th>\n",
       "      <th>False</th>\n",
       "      <th>True</th>\n",
       "    </tr>\n",
       "    <tr>\n",
       "      <th>banner_pos</th>\n",
       "      <th></th>\n",
       "      <th></th>\n",
       "    </tr>\n",
       "  </thead>\n",
       "  <tbody>\n",
       "    <tr>\n",
       "      <th>0</th>\n",
       "      <td>0.833623</td>\n",
       "      <td>0.166377</td>\n",
       "    </tr>\n",
       "    <tr>\n",
       "      <th>1</th>\n",
       "      <td>0.818201</td>\n",
       "      <td>0.181799</td>\n",
       "    </tr>\n",
       "    <tr>\n",
       "      <th>2</th>\n",
       "      <td>0.833333</td>\n",
       "      <td>0.166667</td>\n",
       "    </tr>\n",
       "    <tr>\n",
       "      <th>3</th>\n",
       "      <td>0.750000</td>\n",
       "      <td>0.250000</td>\n",
       "    </tr>\n",
       "    <tr>\n",
       "      <th>4</th>\n",
       "      <td>0.947368</td>\n",
       "      <td>0.052632</td>\n",
       "    </tr>\n",
       "    <tr>\n",
       "      <th>5</th>\n",
       "      <td>1.000000</td>\n",
       "      <td>NaN</td>\n",
       "    </tr>\n",
       "    <tr>\n",
       "      <th>7</th>\n",
       "      <td>0.682243</td>\n",
       "      <td>0.317757</td>\n",
       "    </tr>\n",
       "  </tbody>\n",
       "</table>\n",
       "</div>"
      ],
      "text/plain": [
       "click          False     True \n",
       "banner_pos                    \n",
       "0           0.833623  0.166377\n",
       "1           0.818201  0.181799\n",
       "2           0.833333  0.166667\n",
       "3           0.750000  0.250000\n",
       "4           0.947368  0.052632\n",
       "5           1.000000       NaN\n",
       "7           0.682243  0.317757"
      ]
     },
     "execution_count": 18,
     "metadata": {},
     "output_type": "execute_result"
    }
   ],
   "source": [
    "# Now Normalize by banner position\n",
    "train_banner_pos_group_df.div(train_banner_pos_group_df.sum(axis=1), axis=0)"
   ]
  },
  {
   "cell_type": "code",
   "execution_count": null,
   "metadata": {
    "id": "KLZ0bEDk-6DZ"
   },
   "outputs": [],
   "source": []
  },
  {
   "cell_type": "markdown",
   "metadata": {
    "id": "7qOka5t6NAAU"
   },
   "source": [
    "### Site-related features\n",
    "Regarding the site, we have the features id, domain and category:"
   ]
  },
  {
   "cell_type": "code",
   "execution_count": 19,
   "metadata": {
    "colab": {
     "base_uri": "https://localhost:8080/"
    },
    "id": "aGEzOqQQNAAV",
    "outputId": "83af881d-f575-4166-bf56-8fe0934d69a2"
   },
   "outputs": [
    {
     "data": {
      "text/plain": [
       "85f751fd    0.358664\n",
       "1fbe01fe    0.159491\n",
       "e151e245    0.066317\n",
       "d9750ee7    0.023908\n",
       "5b08c53b    0.023193\n",
       "              ...   \n",
       "8274ff04    0.000010\n",
       "aa0b6551    0.000010\n",
       "e8b73128    0.000010\n",
       "ac7846cb    0.000010\n",
       "d24f3bd9    0.000010\n",
       "Name: site_id, Length: 1485, dtype: float64"
      ]
     },
     "execution_count": 19,
     "metadata": {},
     "output_type": "execute_result"
    }
   ],
   "source": [
    "df['site_id'].value_counts(normalize = True)"
   ]
  },
  {
   "cell_type": "code",
   "execution_count": 20,
   "metadata": {
    "colab": {
     "base_uri": "https://localhost:8080/"
    },
    "id": "pnOzCRcCNAAV",
    "outputId": "e7002821-c3d5-403b-d787-85d2e91e183c"
   },
   "outputs": [
    {
     "data": {
      "text/plain": [
       "c4e18dd6    0.372152\n",
       "f3845767    0.159491\n",
       "7e091613    0.082071\n",
       "7687a86e    0.032404\n",
       "98572c79    0.024713\n",
       "              ...   \n",
       "66cf2855    0.000010\n",
       "9c7ca2e8    0.000010\n",
       "fa8e5d85    0.000010\n",
       "683754f6    0.000010\n",
       "95be4dfd    0.000010\n",
       "Name: site_domain, Length: 1331, dtype: float64"
      ]
     },
     "execution_count": 20,
     "metadata": {},
     "output_type": "execute_result"
    }
   ],
   "source": [
    "df['site_domain'].value_counts(normalize = True)"
   ]
  },
  {
   "cell_type": "code",
   "execution_count": 21,
   "metadata": {
    "colab": {
     "base_uri": "https://localhost:8080/"
    },
    "id": "7Tl7ZWcdNAAW",
    "outputId": "bec1a90a-23fa-428c-fc50-e31665ab6544"
   },
   "outputs": [
    {
     "data": {
      "text/plain": [
       "50e219e0    0.407103\n",
       "f028772b    0.314080\n",
       "28905ebd    0.182020\n",
       "3e814130    0.076977\n",
       "f66779e6    0.006372\n",
       "75fa27f6    0.003946\n",
       "335d28a8    0.003574\n",
       "76b2941d    0.002466\n",
       "c0dd3be3    0.001037\n",
       "72722551    0.000644\n",
       "dedf689d    0.000584\n",
       "70fb0e29    0.000443\n",
       "0569f928    0.000342\n",
       "8fd0aea4    0.000191\n",
       "a818d37a    0.000121\n",
       "42a36e14    0.000040\n",
       "e787de0e    0.000040\n",
       "5378d028    0.000010\n",
       "9ccfa2ea    0.000010\n",
       "Name: site_category, dtype: float64"
      ]
     },
     "execution_count": 21,
     "metadata": {},
     "output_type": "execute_result"
    }
   ],
   "source": [
    "df['site_category'].value_counts(normalize = True)"
   ]
  },
  {
   "cell_type": "code",
   "execution_count": 22,
   "metadata": {
    "id": "0dLzEq90NAAW"
   },
   "outputs": [],
   "source": [
    "site_features = ['site_id','site_domain','site_category']"
   ]
  },
  {
   "cell_type": "code",
   "execution_count": 23,
   "metadata": {
    "colab": {
     "base_uri": "https://localhost:8080/",
     "height": 175
    },
    "id": "uPE_hbKnNAAX",
    "outputId": "d97ab023-ac1e-4fd0-87e8-529d299c949a"
   },
   "outputs": [
    {
     "data": {
      "text/html": [
       "<div>\n",
       "<style scoped>\n",
       "    .dataframe tbody tr th:only-of-type {\n",
       "        vertical-align: middle;\n",
       "    }\n",
       "\n",
       "    .dataframe tbody tr th {\n",
       "        vertical-align: top;\n",
       "    }\n",
       "\n",
       "    .dataframe thead th {\n",
       "        text-align: right;\n",
       "    }\n",
       "</style>\n",
       "<table border=\"1\" class=\"dataframe\">\n",
       "  <thead>\n",
       "    <tr style=\"text-align: right;\">\n",
       "      <th></th>\n",
       "      <th>site_id</th>\n",
       "      <th>site_domain</th>\n",
       "      <th>site_category</th>\n",
       "    </tr>\n",
       "  </thead>\n",
       "  <tbody>\n",
       "    <tr>\n",
       "      <th>count</th>\n",
       "      <td>99341</td>\n",
       "      <td>99341</td>\n",
       "      <td>99341</td>\n",
       "    </tr>\n",
       "    <tr>\n",
       "      <th>unique</th>\n",
       "      <td>1485</td>\n",
       "      <td>1331</td>\n",
       "      <td>19</td>\n",
       "    </tr>\n",
       "    <tr>\n",
       "      <th>top</th>\n",
       "      <td>85f751fd</td>\n",
       "      <td>c4e18dd6</td>\n",
       "      <td>50e219e0</td>\n",
       "    </tr>\n",
       "    <tr>\n",
       "      <th>freq</th>\n",
       "      <td>35630</td>\n",
       "      <td>36970</td>\n",
       "      <td>40442</td>\n",
       "    </tr>\n",
       "  </tbody>\n",
       "</table>\n",
       "</div>"
      ],
      "text/plain": [
       "         site_id site_domain site_category\n",
       "count      99341       99341         99341\n",
       "unique      1485        1331            19\n",
       "top     85f751fd    c4e18dd6      50e219e0\n",
       "freq       35630       36970         40442"
      ]
     },
     "execution_count": 23,
     "metadata": {},
     "output_type": "execute_result"
    }
   ],
   "source": [
    "df[site_features].describe()"
   ]
  },
  {
   "cell_type": "code",
   "execution_count": 24,
   "metadata": {
    "colab": {
     "base_uri": "https://localhost:8080/",
     "height": 665
    },
    "id": "kH26sTh-NAAX",
    "outputId": "0f520adb-9e24-48d7-feae-bbaa40bca68b"
   },
   "outputs": [
    {
     "data": {
      "text/plain": [
       "<AxesSubplot:title={'center':'Site Category Histogram'}>"
      ]
     },
     "execution_count": 24,
     "metadata": {},
     "output_type": "execute_result"
    },
    {
     "data": {
      "image/png": "[encoded data removed]",
      "text/plain": [
       "<Figure size 1080x720 with 1 Axes>"
      ]
     },
     "metadata": {
      "needs_background": "light"
     },
     "output_type": "display_data"
    }
   ],
   "source": [
    "f, ax = plt.subplots(figsize=(15,10))\n",
    "df['site_category'].value_counts().plot(kind='bar', title='Site Category Histogram', ax=ax)"
   ]
  },
  {
   "cell_type": "markdown",
   "metadata": {
    "id": "XwHPDElbNAAY"
   },
   "source": [
    "### App-related features\n",
    "Regarding the app, we have the features id, domain and category:"
   ]
  },
  {
   "cell_type": "code",
   "execution_count": 25,
   "metadata": {
    "id": "6WRKYItaNAAY"
   },
   "outputs": [],
   "source": [
    "app_features = ['app_id', 'app_domain', 'app_category']"
   ]
  },
  {
   "cell_type": "code",
   "execution_count": 26,
   "metadata": {
    "colab": {
     "base_uri": "https://localhost:8080/",
     "height": 0
    },
    "id": "y1QrOgcXNAAZ",
    "outputId": "f7964892-56b1-48e5-eaaa-7575468fdda6"
   },
   "outputs": [
    {
     "data": {
      "text/html": [
       "<div>\n",
       "<style scoped>\n",
       "    .dataframe tbody tr th:only-of-type {\n",
       "        vertical-align: middle;\n",
       "    }\n",
       "\n",
       "    .dataframe tbody tr th {\n",
       "        vertical-align: top;\n",
       "    }\n",
       "\n",
       "    .dataframe thead th {\n",
       "        text-align: right;\n",
       "    }\n",
       "</style>\n",
       "<table border=\"1\" class=\"dataframe\">\n",
       "  <thead>\n",
       "    <tr style=\"text-align: right;\">\n",
       "      <th></th>\n",
       "      <th>app_id</th>\n",
       "      <th>app_domain</th>\n",
       "      <th>app_category</th>\n",
       "    </tr>\n",
       "  </thead>\n",
       "  <tbody>\n",
       "    <tr>\n",
       "      <th>count</th>\n",
       "      <td>99341</td>\n",
       "      <td>99341</td>\n",
       "      <td>99341</td>\n",
       "    </tr>\n",
       "    <tr>\n",
       "      <th>unique</th>\n",
       "      <td>1354</td>\n",
       "      <td>96</td>\n",
       "      <td>21</td>\n",
       "    </tr>\n",
       "    <tr>\n",
       "      <th>top</th>\n",
       "      <td>ecad2386</td>\n",
       "      <td>7801e8d9</td>\n",
       "      <td>07d7df22</td>\n",
       "    </tr>\n",
       "    <tr>\n",
       "      <th>freq</th>\n",
       "      <td>63711</td>\n",
       "      <td>67194</td>\n",
       "      <td>64502</td>\n",
       "    </tr>\n",
       "  </tbody>\n",
       "</table>\n",
       "</div>"
      ],
      "text/plain": [
       "          app_id app_domain app_category\n",
       "count      99341      99341        99341\n",
       "unique      1354         96           21\n",
       "top     ecad2386   7801e8d9     07d7df22\n",
       "freq       63711      67194        64502"
      ]
     },
     "execution_count": 26,
     "metadata": {},
     "output_type": "execute_result"
    }
   ],
   "source": [
    "df[app_features].describe()"
   ]
  },
  {
   "cell_type": "code",
   "execution_count": 27,
   "metadata": {
    "colab": {
     "base_uri": "https://localhost:8080/",
     "height": 0
    },
    "id": "mDIH7IkQNAAZ",
    "outputId": "a3543879-8811-4ac7-c895-f9138c3f33ba"
   },
   "outputs": [
    {
     "data": {
      "text/plain": [
       "<AxesSubplot:title={'center':'App Category Plot'}>"
      ]
     },
     "execution_count": 27,
     "metadata": {},
     "output_type": "execute_result"
    },
    {
     "data": {
      "image/png": "[encoded data removed]",
      "text/plain": [
       "<Figure size 1080x720 with 1 Axes>"
      ]
     },
     "metadata": {
      "needs_background": "light"
     },
     "output_type": "display_data"
    }
   ],
   "source": [
    "f, ax = plt.subplots(figsize=(15,10))\n",
    "df['app_category'].value_counts().plot(kind='bar', title='App Category Plot' , ax=ax)"
   ]
  },
  {
   "cell_type": "code",
   "execution_count": 28,
   "metadata": {
    "id": "9yKwsiB9NAAa"
   },
   "outputs": [],
   "source": [
    "train_app_category_group_df = df.groupby(['app_category', 'click']).size().unstack()"
   ]
  },
  {
   "cell_type": "code",
   "execution_count": 29,
   "metadata": {
    "colab": {
     "base_uri": "https://localhost:8080/",
     "height": 0
    },
    "id": "vEicdmpbNAAa",
    "outputId": "8368e8c5-a8eb-4219-92dd-9f59283504f5"
   },
   "outputs": [
    {
     "data": {
      "text/plain": [
       "<AxesSubplot:title={'center':'Intra-category CTR'}, xlabel='app_category'>"
      ]
     },
     "execution_count": 29,
     "metadata": {},
     "output_type": "execute_result"
    },
    {
     "data": {
      "image/png": "[encoded data removed]",
      "text/plain": [
       "<Figure size 1080x720 with 1 Axes>"
      ]
     },
     "metadata": {
      "needs_background": "light"
     },
     "output_type": "display_data"
    }
   ],
   "source": [
    "f, ax = plt.subplots(figsize=(15,10))\n",
    "train_app_category_group_df.div(train_app_category_group_df.sum(axis=1), axis=0).plot(kind='bar', stacked=True, title=\"Intra-category CTR\" , ax=ax)"
   ]
  },
  {
   "cell_type": "markdown",
   "metadata": {
    "id": "ieDn2jt1NAAb"
   },
   "source": [
    "### Device-related features\n",
    "Regarding the device, we have the features id, ip, model, type and connection type:"
   ]
  },
  {
   "cell_type": "code",
   "execution_count": 30,
   "metadata": {
    "id": "osZHZxmKNAAc"
   },
   "outputs": [],
   "source": [
    "device_features = ['device_id', 'device_ip', 'device_model', 'device_type', 'device_conn_type']"
   ]
  },
  {
   "cell_type": "code",
   "execution_count": 31,
   "metadata": {
    "colab": {
     "base_uri": "https://localhost:8080/",
     "height": 0
    },
    "id": "R_mjk8w0NAAd",
    "outputId": "0412c681-adbc-417f-d52b-fd7a08db8ad0"
   },
   "outputs": [
    {
     "data": {
      "text/html": [
       "<div>\n",
       "<style scoped>\n",
       "    .dataframe tbody tr th:only-of-type {\n",
       "        vertical-align: middle;\n",
       "    }\n",
       "\n",
       "    .dataframe tbody tr th {\n",
       "        vertical-align: top;\n",
       "    }\n",
       "\n",
       "    .dataframe thead th {\n",
       "        text-align: right;\n",
       "    }\n",
       "</style>\n",
       "<table border=\"1\" class=\"dataframe\">\n",
       "  <thead>\n",
       "    <tr style=\"text-align: right;\">\n",
       "      <th></th>\n",
       "      <th>device_id</th>\n",
       "      <th>device_ip</th>\n",
       "      <th>device_model</th>\n",
       "      <th>device_type</th>\n",
       "      <th>device_conn_type</th>\n",
       "    </tr>\n",
       "  </thead>\n",
       "  <tbody>\n",
       "    <tr>\n",
       "      <th>count</th>\n",
       "      <td>99341</td>\n",
       "      <td>99341</td>\n",
       "      <td>99341</td>\n",
       "      <td>99341</td>\n",
       "      <td>99341</td>\n",
       "    </tr>\n",
       "    <tr>\n",
       "      <th>unique</th>\n",
       "      <td>16801</td>\n",
       "      <td>78013</td>\n",
       "      <td>3145</td>\n",
       "      <td>4</td>\n",
       "      <td>4</td>\n",
       "    </tr>\n",
       "    <tr>\n",
       "      <th>top</th>\n",
       "      <td>a99f214a</td>\n",
       "      <td>6b9769f2</td>\n",
       "      <td>8a4875bd</td>\n",
       "      <td>1</td>\n",
       "      <td>0</td>\n",
       "    </tr>\n",
       "    <tr>\n",
       "      <th>freq</th>\n",
       "      <td>81940</td>\n",
       "      <td>518</td>\n",
       "      <td>6032</td>\n",
       "      <td>91589</td>\n",
       "      <td>85872</td>\n",
       "    </tr>\n",
       "  </tbody>\n",
       "</table>\n",
       "</div>"
      ],
      "text/plain": [
       "       device_id device_ip device_model  device_type  device_conn_type\n",
       "count      99341     99341        99341        99341             99341\n",
       "unique     16801     78013         3145            4                 4\n",
       "top     a99f214a  6b9769f2     8a4875bd            1                 0\n",
       "freq       81940       518         6032        91589             85872"
      ]
     },
     "execution_count": 31,
     "metadata": {},
     "output_type": "execute_result"
    }
   ],
   "source": [
    "df[device_features].astype('object').describe()"
   ]
  },
  {
   "cell_type": "code",
   "execution_count": 32,
   "metadata": {
    "colab": {
     "base_uri": "https://localhost:8080/",
     "height": 0
    },
    "id": "mdcvsaL8NAAd",
    "outputId": "ac712fbe-b71f-4ccd-d183-f25b7747150d"
   },
   "outputs": [
    {
     "data": {
      "text/plain": [
       "<AxesSubplot:title={'center':'Device type Graph'}, xlabel='device_type'>"
      ]
     },
     "execution_count": 32,
     "metadata": {},
     "output_type": "execute_result"
    },
    {
     "data": {
      "image/png": "[encoded data removed]",
      "text/plain": [
       "<Figure size 1080x720 with 1 Axes>"
      ]
     },
     "metadata": {
      "needs_background": "light"
     },
     "output_type": "display_data"
    }
   ],
   "source": [
    "f, ax = plt.subplots(figsize=(15,10))\n",
    "df.groupby(['device_type', 'click']).size().unstack().plot(kind='bar', stacked=True, title='Device type Graph', ax=ax)"
   ]
  },
  {
   "cell_type": "code",
   "execution_count": 33,
   "metadata": {
    "colab": {
     "base_uri": "https://localhost:8080/",
     "height": 0
    },
    "id": "9ULYtOg-NAAe",
    "outputId": "1c2ab642-90c5-43e6-f935-a206dca72462"
   },
   "outputs": [
    {
     "data": {
      "text/plain": [
       "<AxesSubplot:title={'center':'Device connection type Graph'}, xlabel='device_conn_type'>"
      ]
     },
     "execution_count": 33,
     "metadata": {},
     "output_type": "execute_result"
    },
    {
     "data": {
      "image/png": "[encoded data removed]",
      "text/plain": [
       "<Figure size 1080x720 with 1 Axes>"
      ]
     },
     "metadata": {
      "needs_background": "light"
     },
     "output_type": "display_data"
    }
   ],
   "source": [
    "f, ax = plt.subplots(figsize=(15,10))\n",
    "df.groupby(['device_conn_type', 'click']).size().unstack().plot(kind='bar', stacked=True, title='Device connection type Graph', ax=ax)"
   ]
  },
  {
   "cell_type": "markdown",
   "metadata": {
    "id": "ieB2zmdYNAAe"
   },
   "source": [
    "### Anonymous Feature"
   ]
  },
  {
   "cell_type": "code",
   "execution_count": 34,
   "metadata": {
    "id": "KB7HD1vzNAAf"
   },
   "outputs": [],
   "source": [
    "annonym_features = ['C1', 'C14', 'C15', 'C16', 'C17', 'C18', 'C19', 'C20', 'C21']"
   ]
  },
  {
   "cell_type": "code",
   "execution_count": 35,
   "metadata": {
    "colab": {
     "base_uri": "https://localhost:8080/"
    },
    "id": "Hgs4nKdsNAAf",
    "outputId": "0e5dcbed-726c-440b-9225-6c021b16bf4c"
   },
   "outputs": [
    {
     "name": "stdout",
     "output_type": "stream",
     "text": [
      "There are 7 C1 in the data set\n",
      "There are 1722 C14 in the data set\n",
      "There are 8 C15 in the data set\n",
      "There are 9 C16 in the data set\n",
      "There are 399 C17 in the data set\n",
      "There are 4 C18 in the data set\n",
      "There are 64 C19 in the data set\n",
      "There are 154 C20 in the data set\n"
     ]
    }
   ],
   "source": [
    "print(\"There are {} C1 in the data set\".format(df.C1.nunique()))\n",
    "print(\"There are {} C14 in the data set\".format(df.C14.nunique()))\n",
    "print(\"There are {} C15 in the data set\".format(df.C15.nunique()))\n",
    "print(\"There are {} C16 in the data set\".format(df.C16.nunique()))\n",
    "print(\"There are {} C17 in the data set\".format(df.C17.nunique()))\n",
    "print(\"There are {} C18 in the data set\".format(df.C18.nunique()))\n",
    "print(\"There are {} C19 in the data set\".format(df.C19.nunique()))\n",
    "print(\"There are {} C20 in the data set\".format(df.C20.nunique()))"
   ]
  },
  {
   "cell_type": "code",
   "execution_count": 36,
   "metadata": {
    "colab": {
     "base_uri": "https://localhost:8080/",
     "height": 0
    },
    "id": "PmAdtUJqNAAf",
    "outputId": "fdab96df-b66f-4189-f6cf-540eba4613d4"
   },
   "outputs": [
    {
     "data": {
      "text/html": [
       "<div>\n",
       "<style scoped>\n",
       "    .dataframe tbody tr th:only-of-type {\n",
       "        vertical-align: middle;\n",
       "    }\n",
       "\n",
       "    .dataframe tbody tr th {\n",
       "        vertical-align: top;\n",
       "    }\n",
       "\n",
       "    .dataframe thead th {\n",
       "        text-align: right;\n",
       "    }\n",
       "</style>\n",
       "<table border=\"1\" class=\"dataframe\">\n",
       "  <thead>\n",
       "    <tr style=\"text-align: right;\">\n",
       "      <th></th>\n",
       "      <th>C1</th>\n",
       "      <th>C14</th>\n",
       "      <th>C15</th>\n",
       "      <th>C16</th>\n",
       "      <th>C17</th>\n",
       "      <th>C18</th>\n",
       "      <th>C19</th>\n",
       "      <th>C20</th>\n",
       "      <th>C21</th>\n",
       "    </tr>\n",
       "  </thead>\n",
       "  <tbody>\n",
       "    <tr>\n",
       "      <th>count</th>\n",
       "      <td>99341</td>\n",
       "      <td>99341</td>\n",
       "      <td>99341</td>\n",
       "      <td>99341</td>\n",
       "      <td>99341</td>\n",
       "      <td>99341</td>\n",
       "      <td>99341</td>\n",
       "      <td>99341</td>\n",
       "      <td>99341</td>\n",
       "    </tr>\n",
       "    <tr>\n",
       "      <th>unique</th>\n",
       "      <td>7</td>\n",
       "      <td>1722</td>\n",
       "      <td>8</td>\n",
       "      <td>9</td>\n",
       "      <td>399</td>\n",
       "      <td>4</td>\n",
       "      <td>64</td>\n",
       "      <td>154</td>\n",
       "      <td>60</td>\n",
       "    </tr>\n",
       "    <tr>\n",
       "      <th>top</th>\n",
       "      <td>1005</td>\n",
       "      <td>4687</td>\n",
       "      <td>320</td>\n",
       "      <td>50</td>\n",
       "      <td>1722</td>\n",
       "      <td>0</td>\n",
       "      <td>35</td>\n",
       "      <td>-1</td>\n",
       "      <td>23</td>\n",
       "    </tr>\n",
       "    <tr>\n",
       "      <th>freq</th>\n",
       "      <td>91213</td>\n",
       "      <td>2302</td>\n",
       "      <td>92484</td>\n",
       "      <td>93556</td>\n",
       "      <td>10984</td>\n",
       "      <td>41459</td>\n",
       "      <td>29745</td>\n",
       "      <td>46457</td>\n",
       "      <td>22058</td>\n",
       "    </tr>\n",
       "  </tbody>\n",
       "</table>\n",
       "</div>"
      ],
      "text/plain": [
       "           C1    C14    C15    C16    C17    C18    C19    C20    C21\n",
       "count   99341  99341  99341  99341  99341  99341  99341  99341  99341\n",
       "unique      7   1722      8      9    399      4     64    154     60\n",
       "top      1005   4687    320     50   1722      0     35     -1     23\n",
       "freq    91213   2302  92484  93556  10984  41459  29745  46457  22058"
      ]
     },
     "execution_count": 36,
     "metadata": {},
     "output_type": "execute_result"
    }
   ],
   "source": [
    "df[annonym_features].astype('object').describe()"
   ]
  },
  {
   "cell_type": "code",
   "execution_count": 37,
   "metadata": {
    "colab": {
     "base_uri": "https://localhost:8080/",
     "height": 0
    },
    "id": "gjM8agWpNAAg",
    "outputId": "16471153-cbfb-4d04-93b3-d5e53cb25e65"
   },
   "outputs": [
    {
     "data": {
      "text/plain": [
       "<AxesSubplot:title={'center':'C1 BarGraph'}, xlabel='C1'>"
      ]
     },
     "execution_count": 37,
     "metadata": {},
     "output_type": "execute_result"
    },
    {
     "data": {
      "image/png": "[encoded data removed]",
      "text/plain": [
       "<Figure size 432x288 with 1 Axes>"
      ]
     },
     "metadata": {
      "needs_background": "light"
     },
     "output_type": "display_data"
    }
   ],
   "source": [
    "df.groupby(['C1', 'click']).size().unstack().plot(kind='bar', stacked=True, title='C1 BarGraph')"
   ]
  },
  {
   "cell_type": "code",
   "execution_count": 38,
   "metadata": {
    "colab": {
     "base_uri": "https://localhost:8080/",
     "height": 0
    },
    "id": "qh3sCCGLNAAg",
    "outputId": "e64c6bb6-cf2a-4e47-db96-af6e2dc309f6"
   },
   "outputs": [
    {
     "data": {
      "text/plain": [
       "<AxesSubplot:title={'center':'C15 BarGraph'}, xlabel='C15'>"
      ]
     },
     "execution_count": 38,
     "metadata": {},
     "output_type": "execute_result"
    },
    {
     "data": {
      "image/png": "[encoded data removed]",
      "text/plain": [
       "<Figure size 432x288 with 1 Axes>"
      ]
     },
     "metadata": {
      "needs_background": "light"
     },
     "output_type": "display_data"
    }
   ],
   "source": [
    "df.groupby(['C15', 'click']).size().unstack().plot(kind='bar', stacked=True, title='C15 BarGraph')"
   ]
  },
  {
   "cell_type": "code",
   "execution_count": 39,
   "metadata": {
    "colab": {
     "base_uri": "https://localhost:8080/",
     "height": 0
    },
    "id": "SLUIBVojNAAg",
    "outputId": "9da9338d-09cb-4298-f29d-82494868d797"
   },
   "outputs": [
    {
     "data": {
      "text/plain": [
       "<AxesSubplot:title={'center':'C16 BarGraph'}, xlabel='C16'>"
      ]
     },
     "execution_count": 39,
     "metadata": {},
     "output_type": "execute_result"
    },
    {
     "data": {
      "image/png": "[encoded data removed]",
      "text/plain": [
       "<Figure size 432x288 with 1 Axes>"
      ]
     },
     "metadata": {
      "needs_background": "light"
     },
     "output_type": "display_data"
    }
   ],
   "source": [
    "df.groupby(['C16', 'click']).size().unstack().plot(kind='bar', stacked=True, title='C16 BarGraph')"
   ]
  },
  {
   "cell_type": "code",
   "execution_count": 40,
   "metadata": {
    "colab": {
     "base_uri": "https://localhost:8080/",
     "height": 0
    },
    "id": "xhTzJgFhNAAh",
    "outputId": "45e903a3-9311-4ffd-dee0-67ea1f904872"
   },
   "outputs": [
    {
     "data": {
      "text/plain": [
       "<AxesSubplot:title={'center':'C18 BarGraph'}, xlabel='C18'>"
      ]
     },
     "execution_count": 40,
     "metadata": {},
     "output_type": "execute_result"
    },
    {
     "data": {
      "image/png": "[encoded data removed]",
      "text/plain": [
       "<Figure size 432x288 with 1 Axes>"
      ]
     },
     "metadata": {
      "needs_background": "light"
     },
     "output_type": "display_data"
    }
   ],
   "source": [
    "df.groupby(['C18', 'click']).size().unstack().plot(kind='bar', stacked=True, title='C18 BarGraph')"
   ]
  },
  {
   "cell_type": "markdown",
   "metadata": {
    "id": "UsCjTvIcNAAh"
   },
   "source": [
    "### Analyzing Through CTR Hour , Month , Day of The Week"
   ]
  },
  {
   "cell_type": "code",
   "execution_count": 41,
   "metadata": {
    "colab": {
     "base_uri": "https://localhost:8080/",
     "height": 0
    },
    "id": "fQO-qrkXNAAh",
    "outputId": "61e805be-6b4b-4afd-e256-884db793a097"
   },
   "outputs": [
    {
     "data": {
      "image/png": "[encoded data removed]",
      "text/plain": [
       "<Figure size 864x432 with 1 Axes>"
      ]
     },
     "metadata": {
      "needs_background": "light"
     },
     "output_type": "display_data"
    }
   ],
   "source": [
    "df.groupby('hour').agg({'click':'sum'}).plot(figsize=(12,6))\n",
    "plt.ylabel('Number of clicks')\n",
    "plt.title('click trends by hour of day');"
   ]
  },
  {
   "cell_type": "code",
   "execution_count": 42,
   "metadata": {
    "colab": {
     "base_uri": "https://localhost:8080/",
     "height": 0
    },
    "id": "-kXtq_e_NAAi",
    "outputId": "46454208-6e22-4413-d1d1-01eba7a18667"
   },
   "outputs": [
    {
     "data": {
      "image/png": "[encoded data removed]",
      "text/plain": [
       "<Figure size 864x432 with 1 Axes>"
      ]
     },
     "metadata": {
      "needs_background": "light"
     },
     "output_type": "display_data"
    }
   ],
   "source": [
    "df.groupby(['hour', 'click']).size().unstack().plot(kind='bar', title=\"Hour of Day\", figsize=(12,6))\n",
    "plt.ylabel('count')\n",
    "plt.title('Hourly impressions vs. clicks');"
   ]
  },
  {
   "cell_type": "code",
   "execution_count": 43,
   "metadata": {
    "colab": {
     "base_uri": "https://localhost:8080/",
     "height": 0
    },
    "id": "2FCz7TDvNAAi",
    "outputId": "3ea21f4b-e019-4680-d8c6-a3617b9fc1b1"
   },
   "outputs": [
    {
     "data": {
      "text/plain": [
       "Text(0.5, 1.0, 'click trends by day of week')"
      ]
     },
     "execution_count": 43,
     "metadata": {},
     "output_type": "execute_result"
    },
    {
     "data": {
      "image/png": "[encoded data removed]",
      "text/plain": [
       "<Figure size 864x432 with 1 Axes>"
      ]
     },
     "metadata": {
      "needs_background": "light"
     },
     "output_type": "display_data"
    }
   ],
   "source": [
    "df.groupby('dayofweek').agg({'click':'sum'}).plot(figsize=(12,6))\n",
    "ticks = list(range(0, 7, 1))\n",
    "labels = \"Mon Tues Weds Thurs Fri Sat Sun\".split()\n",
    "plt.xticks(ticks, labels)\n",
    "plt.title('click trends by day of week')"
   ]
  },
  {
   "cell_type": "code",
   "execution_count": 44,
   "metadata": {
    "colab": {
     "base_uri": "https://localhost:8080/",
     "height": 0
    },
    "id": "OqI2m7xsNAAj",
    "outputId": "aef7e844-6305-4032-a906-bd32f02459f5"
   },
   "outputs": [
    {
     "data": {
      "image/png": "[encoded data removed]",
      "text/plain": [
       "<Figure size 864x432 with 1 Axes>"
      ]
     },
     "metadata": {
      "needs_background": "light"
     },
     "output_type": "display_data"
    }
   ],
   "source": [
    "df.groupby(['dayofweek','click']).size().unstack().plot(kind='bar', title=\"Day of the Week\", figsize=(12,6))\n",
    "ticks = list(range(0, 7, 1)) # points on the x axis where you want the label to appear\n",
    "labels = \"Mon Tues Weds Thurs Fri Sat Sun\".split()\n",
    "plt.xticks(ticks, labels)\n",
    "plt.title('Impressions vs. clicks by day of week');"
   ]
  },
  {
   "cell_type": "code",
   "execution_count": 45,
   "metadata": {
    "colab": {
     "base_uri": "https://localhost:8080/"
    },
    "id": "jPhfGSr6NAAj",
    "outputId": "0451d577-d40d-4458-80f1-9cacee5da4cf"
   },
   "outputs": [
    {
     "data": {
      "text/plain": [
       "1"
      ]
     },
     "execution_count": 45,
     "metadata": {},
     "output_type": "execute_result"
    }
   ],
   "source": [
    "df.month.unique().shape[0]"
   ]
  },
  {
   "cell_type": "code",
   "execution_count": 46,
   "metadata": {
    "id": "ObJ0Xx_8NAAk"
   },
   "outputs": [],
   "source": [
    "df=df.drop(['month'],axis=1)"
   ]
  },
  {
   "cell_type": "markdown",
   "metadata": {
    "id": "6wRwS9GtNAAk"
   },
   "source": [
    "### FINDING THE CORRELATION BETWEEN THE VARIABLES"
   ]
  },
  {
   "cell_type": "code",
   "execution_count": 47,
   "metadata": {
    "id": "wYTWeXTdNAAk"
   },
   "outputs": [],
   "source": [
    "df_corr=df.corr()"
   ]
  },
  {
   "cell_type": "code",
   "execution_count": 48,
   "metadata": {
    "colab": {
     "base_uri": "https://localhost:8080/",
     "height": 692
    },
    "id": "aBGWjVGONAAl",
    "outputId": "531858b3-8060-4d83-86ce-07c9659f013d"
   },
   "outputs": [
    {
     "data": {
      "text/plain": [
       "<AxesSubplot:>"
      ]
     },
     "execution_count": 48,
     "metadata": {},
     "output_type": "execute_result"
    },
    {
     "data": {
      "image/png": "[encoded data removed]",
      "text/plain": [
       "<Figure size 1080x720 with 2 Axes>"
      ]
     },
     "metadata": {
      "needs_background": "light"
     },
     "output_type": "display_data"
    }
   ],
   "source": [
    "f, ax = plt.subplots(figsize=(15,10))\n",
    "sns.heatmap(df_corr,ax=ax, annot=True,linewidths=3,cmap='YlGn')"
   ]
  },
  {
   "cell_type": "markdown",
   "metadata": {
    "id": "NUqQzH74NAAl"
   },
   "source": [
    "## 7.) Use model simplification techniques like feature creation and selection, to improve model predictability. \n",
    "For simplifying the model we can refer to correlation matrix to remove highly correlated features\n",
    "### As we can see y and Click have correaltion as 1 so this coloumn should be removed"
   ]
  },
  {
   "cell_type": "code",
   "execution_count": 49,
   "metadata": {
    "id": "dB-ZASRkNAAm"
   },
   "outputs": [],
   "source": [
    "df=df.drop(['click'],axis=1)"
   ]
  },
  {
   "cell_type": "markdown",
   "metadata": {
    "id": "rnXQpmPdOJrY"
   },
   "source": [
    "**Use suitable techniques to treat the categorical columns**."
   ]
  },
  {
   "cell_type": "markdown",
   "metadata": {
    "id": "epuMsfP5Ayc5"
   },
   "source": [
    "**Perform Label encoding for the categorical data**"
   ]
  },
  {
   "cell_type": "code",
   "execution_count": 50,
   "metadata": {
    "id": "leAV9TAtNAAm"
   },
   "outputs": [],
   "source": [
    "from sklearn.preprocessing import LabelEncoder \n",
    "labelEncoder= LabelEncoder()\n",
    "df['site_id'] = labelEncoder.fit_transform(df['site_id'])\n",
    "df['site_domain'] = labelEncoder.fit_transform(df['site_domain'])\n",
    "df['site_category'] = labelEncoder.fit_transform(df['site_category'])\n",
    "df['app_id'] = labelEncoder.fit_transform(df['app_id'])\n",
    "df['app_domain'] = labelEncoder.fit_transform(df['app_domain'])\n",
    "df['app_category'] = labelEncoder.fit_transform(df['app_category'])\n",
    "df['device_id'] = labelEncoder.fit_transform(df['device_id'])\n",
    "df['device_ip'] = labelEncoder.fit_transform(df['device_ip'])\n",
    "df['device_model'] = labelEncoder.fit_transform(df['device_model'])"
   ]
  },
  {
   "cell_type": "markdown",
   "metadata": {
    "id": "2TSX5az_A9bu"
   },
   "source": [
    "**Perform One hot encoding for Banner Position**"
   ]
  },
  {
   "cell_type": "code",
   "execution_count": 51,
   "metadata": {
    "id": "KYHfZ-ufBKz0"
   },
   "outputs": [],
   "source": [
    "df = pd.get_dummies(df, columns = ['banner_pos'])"
   ]
  },
  {
   "cell_type": "code",
   "execution_count": 52,
   "metadata": {
    "colab": {
     "base_uri": "https://localhost:8080/"
    },
    "id": "JDaLvSE_Bgzs",
    "outputId": "8b6461c1-17c6-4723-fdcf-9cd3bcd5dabf"
   },
   "outputs": [
    {
     "name": "stdout",
     "output_type": "stream",
     "text": [
      "<class 'pandas.core.frame.DataFrame'>\n",
      "Int64Index: 99341 entries, 0 to 99998\n",
      "Data columns (total 31 columns):\n",
      " #   Column            Non-Null Count  Dtype\n",
      "---  ------            --------------  -----\n",
      " 0   C1                99341 non-null  int64\n",
      " 1   site_id           99341 non-null  int32\n",
      " 2   site_domain       99341 non-null  int32\n",
      " 3   site_category     99341 non-null  int32\n",
      " 4   app_id            99341 non-null  int32\n",
      " 5   app_domain        99341 non-null  int32\n",
      " 6   app_category      99341 non-null  int32\n",
      " 7   device_id         99341 non-null  int32\n",
      " 8   device_ip         99341 non-null  int32\n",
      " 9   device_model      99341 non-null  int32\n",
      " 10  device_type       99341 non-null  int64\n",
      " 11  device_conn_type  99341 non-null  int64\n",
      " 12  C14               99341 non-null  int64\n",
      " 13  C15               99341 non-null  int64\n",
      " 14  C16               99341 non-null  int64\n",
      " 15  C17               99341 non-null  int64\n",
      " 16  C18               99341 non-null  int64\n",
      " 17  C19               99341 non-null  int64\n",
      " 18  C20               99341 non-null  int64\n",
      " 19  C21               99341 non-null  int64\n",
      " 20  dayofweek         99341 non-null  int64\n",
      " 21  day               99341 non-null  int64\n",
      " 22  hour              99341 non-null  int64\n",
      " 23  y                 99341 non-null  int64\n",
      " 24  banner_pos_0      99341 non-null  uint8\n",
      " 25  banner_pos_1      99341 non-null  uint8\n",
      " 26  banner_pos_2      99341 non-null  uint8\n",
      " 27  banner_pos_3      99341 non-null  uint8\n",
      " 28  banner_pos_4      99341 non-null  uint8\n",
      " 29  banner_pos_5      99341 non-null  uint8\n",
      " 30  banner_pos_7      99341 non-null  uint8\n",
      "dtypes: int32(9), int64(15), uint8(7)\n",
      "memory usage: 16.2 MB\n"
     ]
    }
   ],
   "source": [
    "df.info()"
   ]
  },
  {
   "cell_type": "code",
   "execution_count": 53,
   "metadata": {
    "colab": {
     "base_uri": "https://localhost:8080/",
     "height": 300
    },
    "id": "OpfbcdNoNAAn",
    "outputId": "e96368e3-fb17-4e06-8ff0-9dae7392d7d0"
   },
   "outputs": [
    {
     "data": {
      "text/html": [
       "<div>\n",
       "<style scoped>\n",
       "    .dataframe tbody tr th:only-of-type {\n",
       "        vertical-align: middle;\n",
       "    }\n",
       "\n",
       "    .dataframe tbody tr th {\n",
       "        vertical-align: top;\n",
       "    }\n",
       "\n",
       "    .dataframe thead th {\n",
       "        text-align: right;\n",
       "    }\n",
       "</style>\n",
       "<table border=\"1\" class=\"dataframe\">\n",
       "  <thead>\n",
       "    <tr style=\"text-align: right;\">\n",
       "      <th></th>\n",
       "      <th>C1</th>\n",
       "      <th>site_id</th>\n",
       "      <th>site_domain</th>\n",
       "      <th>site_category</th>\n",
       "      <th>app_id</th>\n",
       "      <th>app_domain</th>\n",
       "      <th>app_category</th>\n",
       "      <th>device_id</th>\n",
       "      <th>device_ip</th>\n",
       "      <th>device_model</th>\n",
       "      <th>...</th>\n",
       "      <th>day</th>\n",
       "      <th>hour</th>\n",
       "      <th>y</th>\n",
       "      <th>banner_pos_0</th>\n",
       "      <th>banner_pos_1</th>\n",
       "      <th>banner_pos_2</th>\n",
       "      <th>banner_pos_3</th>\n",
       "      <th>banner_pos_4</th>\n",
       "      <th>banner_pos_5</th>\n",
       "      <th>banner_pos_7</th>\n",
       "    </tr>\n",
       "  </thead>\n",
       "  <tbody>\n",
       "    <tr>\n",
       "      <th>0</th>\n",
       "      <td>1005</td>\n",
       "      <td>784</td>\n",
       "      <td>461</td>\n",
       "      <td>17</td>\n",
       "      <td>1254</td>\n",
       "      <td>38</td>\n",
       "      <td>0</td>\n",
       "      <td>11220</td>\n",
       "      <td>45791</td>\n",
       "      <td>2288</td>\n",
       "      <td>...</td>\n",
       "      <td>28</td>\n",
       "      <td>14</td>\n",
       "      <td>0</td>\n",
       "      <td>0</td>\n",
       "      <td>1</td>\n",
       "      <td>0</td>\n",
       "      <td>0</td>\n",
       "      <td>0</td>\n",
       "      <td>0</td>\n",
       "      <td>0</td>\n",
       "    </tr>\n",
       "    <tr>\n",
       "      <th>1</th>\n",
       "      <td>1005</td>\n",
       "      <td>1287</td>\n",
       "      <td>673</td>\n",
       "      <td>17</td>\n",
       "      <td>1254</td>\n",
       "      <td>38</td>\n",
       "      <td>0</td>\n",
       "      <td>11220</td>\n",
       "      <td>27757</td>\n",
       "      <td>342</td>\n",
       "      <td>...</td>\n",
       "      <td>22</td>\n",
       "      <td>19</td>\n",
       "      <td>1</td>\n",
       "      <td>0</td>\n",
       "      <td>1</td>\n",
       "      <td>0</td>\n",
       "      <td>0</td>\n",
       "      <td>0</td>\n",
       "      <td>0</td>\n",
       "      <td>0</td>\n",
       "    </tr>\n",
       "    <tr>\n",
       "      <th>2</th>\n",
       "      <td>1005</td>\n",
       "      <td>1293</td>\n",
       "      <td>1112</td>\n",
       "      <td>1</td>\n",
       "      <td>1254</td>\n",
       "      <td>38</td>\n",
       "      <td>0</td>\n",
       "      <td>11220</td>\n",
       "      <td>51733</td>\n",
       "      <td>1862</td>\n",
       "      <td>...</td>\n",
       "      <td>23</td>\n",
       "      <td>18</td>\n",
       "      <td>0</td>\n",
       "      <td>1</td>\n",
       "      <td>0</td>\n",
       "      <td>0</td>\n",
       "      <td>0</td>\n",
       "      <td>0</td>\n",
       "      <td>0</td>\n",
       "      <td>0</td>\n",
       "    </tr>\n",
       "    <tr>\n",
       "      <th>3</th>\n",
       "      <td>1002</td>\n",
       "      <td>80</td>\n",
       "      <td>182</td>\n",
       "      <td>5</td>\n",
       "      <td>1254</td>\n",
       "      <td>38</td>\n",
       "      <td>0</td>\n",
       "      <td>988</td>\n",
       "      <td>41758</td>\n",
       "      <td>2863</td>\n",
       "      <td>...</td>\n",
       "      <td>22</td>\n",
       "      <td>19</td>\n",
       "      <td>0</td>\n",
       "      <td>1</td>\n",
       "      <td>0</td>\n",
       "      <td>0</td>\n",
       "      <td>0</td>\n",
       "      <td>0</td>\n",
       "      <td>0</td>\n",
       "      <td>0</td>\n",
       "    </tr>\n",
       "    <tr>\n",
       "      <th>4</th>\n",
       "      <td>1005</td>\n",
       "      <td>179</td>\n",
       "      <td>1272</td>\n",
       "      <td>1</td>\n",
       "      <td>1254</td>\n",
       "      <td>38</td>\n",
       "      <td>0</td>\n",
       "      <td>11220</td>\n",
       "      <td>9312</td>\n",
       "      <td>682</td>\n",
       "      <td>...</td>\n",
       "      <td>21</td>\n",
       "      <td>8</td>\n",
       "      <td>1</td>\n",
       "      <td>1</td>\n",
       "      <td>0</td>\n",
       "      <td>0</td>\n",
       "      <td>0</td>\n",
       "      <td>0</td>\n",
       "      <td>0</td>\n",
       "      <td>0</td>\n",
       "    </tr>\n",
       "  </tbody>\n",
       "</table>\n",
       "<p>5 rows × 31 columns</p>\n",
       "</div>"
      ],
      "text/plain": [
       "     C1  site_id  site_domain  site_category  app_id  app_domain  \\\n",
       "0  1005      784          461             17    1254          38   \n",
       "1  1005     1287          673             17    1254          38   \n",
       "2  1005     1293         1112              1    1254          38   \n",
       "3  1002       80          182              5    1254          38   \n",
       "4  1005      179         1272              1    1254          38   \n",
       "\n",
       "   app_category  device_id  device_ip  device_model  ...  day  hour  y  \\\n",
       "0             0      11220      45791          2288  ...   28    14  0   \n",
       "1             0      11220      27757           342  ...   22    19  1   \n",
       "2             0      11220      51733          1862  ...   23    18  0   \n",
       "3             0        988      41758          2863  ...   22    19  0   \n",
       "4             0      11220       9312           682  ...   21     8  1   \n",
       "\n",
       "   banner_pos_0  banner_pos_1  banner_pos_2  banner_pos_3  banner_pos_4  \\\n",
       "0             0             1             0             0             0   \n",
       "1             0             1             0             0             0   \n",
       "2             1             0             0             0             0   \n",
       "3             1             0             0             0             0   \n",
       "4             1             0             0             0             0   \n",
       "\n",
       "   banner_pos_5  banner_pos_7  \n",
       "0             0             0  \n",
       "1             0             0  \n",
       "2             0             0  \n",
       "3             0             0  \n",
       "4             0             0  \n",
       "\n",
       "[5 rows x 31 columns]"
      ]
     },
     "execution_count": 53,
     "metadata": {},
     "output_type": "execute_result"
    }
   ],
   "source": [
    "df.head()"
   ]
  },
  {
   "cell_type": "code",
   "execution_count": 54,
   "metadata": {
    "id": "LxbRyGh0NAAn"
   },
   "outputs": [],
   "source": [
    "x=df.drop(['y'],axis=1) #contain all  independent variable\n",
    "y=df['y']           #dependent variable"
   ]
  },
  {
   "cell_type": "markdown",
   "metadata": {
    "id": "S6r8sBDPig64"
   },
   "source": [
    "**Use model simplification techniques like feature creation and selection, to improve model predictability**\n",
    "**Class Feature Importance**"
   ]
  },
  {
   "cell_type": "code",
   "execution_count": 55,
   "metadata": {
    "colab": {
     "base_uri": "https://localhost:8080/",
     "height": 731
    },
    "id": "MuybiPCdNAAo",
    "outputId": "94546c3e-b152-49a3-cd61-34a539201199"
   },
   "outputs": [
    {
     "name": "stdout",
     "output_type": "stream",
     "text": [
      "[2.89620756e-03 3.37977863e-02 2.91154127e-02 1.14940704e-02\n",
      " 1.53186805e-02 8.08861693e-03 8.21473706e-03 2.67145349e-02\n",
      " 2.06476275e-01 1.70049187e-01 2.79381327e-03 1.12876328e-02\n",
      " 9.08629930e-02 5.71548393e-03 1.07791868e-02 2.48258888e-02\n",
      " 1.48161965e-02 1.95042680e-02 4.29677870e-02 1.63134531e-02\n",
      " 4.28450876e-02 4.49729532e-02 1.54527232e-01 2.78039098e-03\n",
      " 2.55959855e-03 4.89609913e-05 2.87602220e-05 2.20428992e-05\n",
      " 3.50642098e-06 1.79256721e-04]\n"
     ]
    },
    {
     "data": {
      "image/png": "[encoded data removed]",
      "text/plain": [
       "<Figure size 1080x720 with 1 Axes>"
      ]
     },
     "metadata": {
      "needs_background": "light"
     },
     "output_type": "display_data"
    }
   ],
   "source": [
    "from sklearn.ensemble import ExtraTreesClassifier\n",
    "model = ExtraTreesClassifier()\n",
    "model.fit(x,y)\n",
    "print(model.feature_importances_) #use inbuilt class feature_importances of tree based clas\n",
    "#plot graph of feature importances for better visualization\n",
    "f, ax = plt.subplots(figsize=(15,10))\n",
    "feat_importances = pd.Series(model.feature_importances_, index=x.columns)\n",
    "feat_importances.plot(kind='barh')\n",
    "plt.show()"
   ]
  },
  {
   "cell_type": "markdown",
   "metadata": {
    "id": "u_ka0fDXSX54"
   },
   "source": [
    "## 7.) Use model simplification techniques like feature creation and selection, to improve model predictability. \n",
    "\n",
    "VIF technique is used to detect multi - colinearity between the variables and will be used for finding the feature importance and performing feature selection"
   ]
  },
  {
   "cell_type": "code",
   "execution_count": 56,
   "metadata": {
    "colab": {
     "base_uri": "https://localhost:8080/"
    },
    "id": "QetjZNJ9NAAo",
    "outputId": "af80fed0-c0d3-4e18-92ed-72bd7176da07"
   },
   "outputs": [
    {
     "name": "stdout",
     "output_type": "stream",
     "text": [
      "             feature           VIF\n",
      "0                 C1  5.826120e+00\n",
      "1            site_id  1.457359e+00\n",
      "2        site_domain  1.838402e+00\n",
      "3      site_category  2.297276e+00\n",
      "4             app_id  1.702133e+00\n",
      "5         app_domain  1.088549e+00\n",
      "6       app_category  1.492249e+00\n",
      "7          device_id  1.078286e+00\n",
      "8          device_ip  1.000495e+00\n",
      "9       device_model  1.014321e+00\n",
      "10       device_type  6.190471e+00\n",
      "11  device_conn_type  1.241900e+00\n",
      "12               C14  2.291976e+01\n",
      "13               C15  1.064717e+00\n",
      "14               C16  1.304796e+00\n",
      "15               C17  2.315473e+01\n",
      "16               C18  1.619073e+00\n",
      "17               C19  1.076227e+00\n",
      "18               C20  1.083245e+00\n",
      "19               C21  1.718602e+00\n",
      "20         dayofweek  1.037367e+00\n",
      "21               day  1.067001e+00\n",
      "22              hour  1.015106e+00\n",
      "23      banner_pos_0  3.508943e+06\n",
      "24      banner_pos_1  1.372797e+06\n",
      "25      banner_pos_2  1.477530e+03\n",
      "26      banner_pos_3  2.006688e+02\n",
      "27      banner_pos_4  9.363831e+02\n",
      "28      banner_pos_5  4.468133e+02\n",
      "29      banner_pos_7  5.257899e+03\n"
     ]
    }
   ],
   "source": [
    "from statsmodels.stats.outliers_influence import variance_inflation_factor\n",
    "vif_data = pd.DataFrame()\n",
    "vif_data[\"feature\"] = x.columns\n",
    "  \n",
    "# calculating VIF for each feature\n",
    "vif_data[\"VIF\"] = [variance_inflation_factor(x.values, i)\n",
    "                          for i in range(len(x.columns))]\n",
    "  \n",
    "print(vif_data)"
   ]
  },
  {
   "cell_type": "markdown",
   "metadata": {
    "id": "CI_1FKpTEZHd"
   },
   "source": [
    "**APPROACH** \n",
    "\n",
    "First we will run the model with Vanilla set up and then to improve upon the performance we will use the above findings to fine tune\n",
    "our model. \n",
    "\n",
    "1. VIF will be used deal with problem of multi-colinearity ,\n",
    "2. Correlation will also be used to check highly colinear variables, and \n",
    "3. Feature importance , which uses GINI to identify most important feature will be used."
   ]
  },
  {
   "cell_type": "markdown",
   "metadata": {
    "id": "9xRpXsXjNAAp"
   },
   "source": [
    "### Handling Imbalanced data\n",
    "### As  we observed observation of one class is higher than the observation in other classesso there is  a class imbalance. We can clearly see that there is a huge difference between the data set. Solving this issue we use resampling technique."
   ]
  },
  {
   "cell_type": "code",
   "execution_count": 57,
   "metadata": {
    "colab": {
     "base_uri": "https://localhost:8080/",
     "height": 386
    },
    "id": "_DBRp63VNAAq",
    "outputId": "73f5afff-b905-49c2-89a5-16c788610455"
   },
   "outputs": [
    {
     "name": "stdout",
     "output_type": "stream",
     "text": [
      "Original dataset shape Counter({0: 82370, 1: 16971})\n",
      "Resampled dataset shape Counter({0: 82370, 1: 82370})\n"
     ]
    },
    {
     "data": {
      "text/plain": [
       "<AxesSubplot:xlabel='y', ylabel='count'>"
      ]
     },
     "execution_count": 57,
     "metadata": {},
     "output_type": "execute_result"
    },
    {
     "data": {
      "image/png": "[encoded data removed]",
      "text/plain": [
       "<Figure size 432x288 with 1 Axes>"
      ]
     },
     "metadata": {
      "needs_background": "light"
     },
     "output_type": "display_data"
    }
   ],
   "source": [
    "from imblearn.over_sampling import RandomOverSampler\n",
    "randomsample=  RandomOverSampler()\n",
    "x_new,y_new=randomsample.fit_resample(x,y)\n",
    "\n",
    "from collections import Counter\n",
    "print('Original dataset shape {}'.format(Counter(y)))\n",
    "print('Resampled dataset shape {}'.format(Counter(y_new)))\n",
    "sns.countplot(y_new,palette='husl')"
   ]
  },
  {
   "cell_type": "markdown",
   "metadata": {
    "id": "gwcCbeGoQkCC"
   },
   "source": [
    "## 3.) Perform a train-test split in the data set"
   ]
  },
  {
   "cell_type": "code",
   "execution_count": 58,
   "metadata": {
    "colab": {
     "base_uri": "https://localhost:8080/"
    },
    "id": "33KbJfJ0Qk-M",
    "outputId": "ec44b0a4-9343-4e87-871f-86228489b58a"
   },
   "outputs": [
    {
     "name": "stdout",
     "output_type": "stream",
     "text": [
      "(115318, 30) (49422, 30) (115318,) (49422,)\n"
     ]
    }
   ],
   "source": [
    "#dividing the dataset into training and testing\n",
    "\n",
    "from sklearn.model_selection import train_test_split\n",
    "xtrain,xtest,ytrain,ytest=train_test_split(x_new,y_new,test_size=.30,random_state=0)\n",
    "print(xtrain.shape,xtest.shape,ytrain.shape,ytest.shape)\n",
    "\n",
    "#feature scaling\n",
    "from sklearn.preprocessing import StandardScaler\n",
    "scaler=StandardScaler()\n",
    "xtrain=scaler.fit_transform(xtrain)\n",
    "xtest=scaler.transform(xtest)"
   ]
  },
  {
   "cell_type": "markdown",
   "metadata": {},
   "source": [
    "## 4.) Identify the 3 classification methods you will use in the data set, and explain the reason you chose those 3 methods in the notebook file you will share in the submission process."
   ]
  },
  {
   "cell_type": "markdown",
   "metadata": {
    "id": "g9Zmp-UrO9KW"
   },
   "source": [
    "Problem can be identified as Binary Classification\n",
    "\n",
    "Idea is to start selection of models as:\n",
    "\n",
    "1.Logistic Regression - This is classification problem and there are categorical variables in the data , this model can used effectively.\n",
    "\n",
    "2.Decision Tree - based on the available categories the outcome of the data can be predicted properly  , and as seen above through feature importance , we can assess that there are certain variables that can completely describe the data.\n",
    "\n",
    "3.Random Forest - To see appropriate predictability we have picked RF as well."
   ]
  },
  {
   "cell_type": "markdown",
   "metadata": {
    "id": "w_l_6SFnFwnK"
   },
   "source": [
    "## 5.) For all 3 methods, use appropriate evaluation metrics to assess model performance. \n",
    "\n",
    "*First we will be Running the Vanilla Model , and then check the performance metrics for Logistic Regression. After this we will fine tune model using features selection.*"
   ]
  },
  {
   "cell_type": "markdown",
   "metadata": {
    "id": "4A0BOKhdSyks"
   },
   "source": [
    "**LOGISTIC REGRESSION**"
   ]
  },
  {
   "cell_type": "code",
   "execution_count": 59,
   "metadata": {
    "colab": {
     "base_uri": "https://localhost:8080/"
    },
    "id": "NBO8JLQORKfi",
    "outputId": "4f4eb92c-a03f-48a4-f2a5-63cbf1c5fad8"
   },
   "outputs": [
    {
     "name": "stdout",
     "output_type": "stream",
     "text": [
      "Accuracy :  0.5915381813767149\n",
      "ROC_AUC Score: 0.5915169783275971\n"
     ]
    }
   ],
   "source": [
    "model=LogisticRegression()\n",
    "model=model.fit(xtrain,ytrain)\n",
    "pred=model.predict(xtest)\n",
    "lr_probability =model.predict_proba(xtest)[:,1]\n",
    "acc_lr=accuracy_score(ytest,pred)\n",
    "recall_lr=recall_score(ytest,pred)\n",
    "precision_lr=precision_score(ytest,pred)\n",
    "f1score_lr=f1_score(ytest,pred)\n",
    "AUC_LR=roc_auc_score(pred,ytest)\n",
    "#print accuracy and Auc values of model\n",
    "print(\"Accuracy : \", accuracy_score(ytest,pred))\n",
    "print(\"ROC_AUC Score:\",AUC_LR)"
   ]
  },
  {
   "cell_type": "markdown",
   "metadata": {
    "id": "kcVO7u3qQXDT"
   },
   "source": [
    "Evaluation metrics for logistic regression"
   ]
  },
  {
   "cell_type": "code",
   "execution_count": 60,
   "metadata": {
    "colab": {
     "base_uri": "https://localhost:8080/"
    },
    "id": "V5MtI7kJRwMR",
    "outputId": "00c99a29-9129-4f45-e665-2fcd0380d5c7"
   },
   "outputs": [
    {
     "name": "stdout",
     "output_type": "stream",
     "text": [
      "              precision    recall  f1-score   support\n",
      "\n",
      "           0       0.59      0.59      0.59     24536\n",
      "           1       0.59      0.59      0.59     24886\n",
      "\n",
      "    accuracy                           0.59     49422\n",
      "   macro avg       0.59      0.59      0.59     49422\n",
      "weighted avg       0.59      0.59      0.59     49422\n",
      "\n"
     ]
    }
   ],
   "source": [
    "print(classification_report(pred,ytest))"
   ]
  },
  {
   "cell_type": "code",
   "execution_count": 61,
   "metadata": {
    "colab": {
     "base_uri": "https://localhost:8080/",
     "height": 295
    },
    "id": "8zIeyKIWSO86",
    "outputId": "dd1c4647-968b-4f54-8a8c-678ada54c03a"
   },
   "outputs": [
    {
     "data": {
      "image/png": "[encoded data removed]",
      "text/plain": [
       "<Figure size 432x288 with 1 Axes>"
      ]
     },
     "metadata": {
      "needs_background": "light"
     },
     "output_type": "display_data"
    }
   ],
   "source": [
    "from sklearn.metrics import roc_curve\n",
    "fpr, tpr, _ = roc_curve(ytest, lr_probability)\n",
    "\n",
    "plt.title('Logistic Regression ROC curve')\n",
    "plt.xlabel('FPR (Precision)')\n",
    "plt.ylabel('TPR (Recall)')\n",
    "\n",
    "plt.plot(fpr,tpr)\n",
    "plt.plot((0,1), ls='dashed',color='black')\n",
    "plt.show()"
   ]
  },
  {
   "cell_type": "code",
   "execution_count": 62,
   "metadata": {
    "colab": {
     "base_uri": "https://localhost:8080/",
     "height": 317
    },
    "id": "oXxjk8xWSa1_",
    "outputId": "816b6fe6-8d55-467e-a5c9-d53e3b4129a9"
   },
   "outputs": [
    {
     "name": "stdout",
     "output_type": "stream",
     "text": [
      "[[14440 10091]\n",
      " [10096 14795]]\n"
     ]
    },
    {
     "data": {
      "text/plain": [
       "<AxesSubplot:>"
      ]
     },
     "execution_count": 62,
     "metadata": {},
     "output_type": "execute_result"
    },
    {
     "data": {
      "image/png": "[encoded data removed]",
      "text/plain": [
       "<Figure size 432x288 with 2 Axes>"
      ]
     },
     "metadata": {
      "needs_background": "light"
     },
     "output_type": "display_data"
    }
   ],
   "source": [
    "cm=confusion_matrix(ytest,pred)\n",
    "print(cm)\n",
    "sns.heatmap(cm,annot=True,cmap='BuPu')"
   ]
  },
  {
   "cell_type": "markdown",
   "metadata": {
    "id": "EDy6yLPxS-dp"
   },
   "source": [
    "MODEL FINE TUNING USING THE FEATURE SELECTION AND USING PARAMETER TUNING**"
   ]
  },
  {
   "cell_type": "code",
   "execution_count": 63,
   "metadata": {
    "colab": {
     "base_uri": "https://localhost:8080/"
    },
    "id": "QcWHktm8RTTc",
    "outputId": "17ac56a2-487e-47ff-eda8-d1ea41781029"
   },
   "outputs": [
    {
     "name": "stdout",
     "output_type": "stream",
     "text": [
      "(115318, 27) (49422, 27) (115318,) (49422,)\n"
     ]
    }
   ],
   "source": [
    "# Based on Correlation C14 and C17 are highly correlated as we checked above so we will drop any of these in tuned model\n",
    "# We will use RandomizedSearchCV for cross-validation and checking wether l1 or l2 penalty is better\n",
    "# Based on VIF we will try to drop C1, device_type , banner_pos_4,banner_pos_7\n",
    "\n",
    "x_tune_new=df.drop(columns = ['C14','C1','banner_pos_4','banner_pos_7'],axis=1) #contain all  independent variable\n",
    "y_tune_new=df['y'] \n",
    "\n",
    "from imblearn.over_sampling import RandomOverSampler\n",
    "randomsample=  RandomOverSampler()\n",
    "x_tune_new,y_tune_new=randomsample.fit_resample(x_tune_new,y_tune_new)\n",
    "\n",
    "\n",
    "#dividing the dataset into training and testing\n",
    "from sklearn.model_selection import train_test_split\n",
    "x_tuned_train,x_tuned_test,y_tuned_train,y_tuned_test=train_test_split(x_tune_new,y_tune_new,test_size=.30,random_state=0)\n",
    "print(x_tuned_train.shape,x_tuned_test.shape,y_tuned_train.shape,y_tuned_test.shape)\n",
    "\n",
    "#feature scaling\n",
    "from sklearn.preprocessing import StandardScaler\n",
    "scaler=StandardScaler()\n",
    "x_tuned_train=scaler.fit_transform(x_tuned_train)\n",
    "x_tuned_test=scaler.transform(x_tuned_test)"
   ]
  },
  {
   "cell_type": "markdown",
   "metadata": {
    "id": "MHpl4WltTXmL"
   },
   "source": [
    "Model Regularization by applying penalty"
   ]
  },
  {
   "cell_type": "code",
   "execution_count": 64,
   "metadata": {
    "colab": {
     "base_uri": "https://localhost:8080/"
    },
    "id": "-gkdYun2Mg2G",
    "outputId": "abdc2284-d085-4b87-9b7a-0faec4c876aa"
   },
   "outputs": [
    {
     "name": "stdout",
     "output_type": "stream",
     "text": [
      "Best Penalty: {'C': 0.25, 'class_weight': None, 'dual': False, 'fit_intercept': True, 'intercept_scaling': 1, 'l1_ratio': None, 'max_iter': 125, 'multi_class': 'auto', 'n_jobs': None, 'penalty': 'l2', 'random_state': None, 'solver': 'lbfgs', 'tol': 0.0001, 'verbose': 0, 'warm_start': False}\n"
     ]
    }
   ],
   "source": [
    "from sklearn.model_selection import RandomizedSearchCV\n",
    "\n",
    "max_iter = [50, 75, 100,125,150]\n",
    "# Create regularization hyperparameter distribution using uniform distribution\n",
    "C = np.linspace(0,1,5)\n",
    "# Create hyperparameter options\n",
    "hyperparameters = dict(C=C, max_iter=max_iter)\n",
    "clf_logit = RandomizedSearchCV(LogisticRegression(), hyperparameters, random_state=42, cv=3, verbose=0)\n",
    "best_model = clf_logit.fit(x_tuned_train,y_tuned_train)\n",
    "print('Best Penalty:', best_model.best_estimator_.get_params())"
   ]
  },
  {
   "cell_type": "code",
   "execution_count": 65,
   "metadata": {
    "id": "vKAnyedWNFlv"
   },
   "outputs": [],
   "source": [
    "clf_0 = LogisticRegression(max_iter=125, C=0.25,penalty = 'l2').fit(x_tuned_train,y_tuned_train)\n",
    "\n",
    "pred_tuned_ytest=clf_0.predict(x_tuned_test)\n",
    "lr_tuned_probability =clf_0.predict_proba(x_tuned_test)[:,1]"
   ]
  },
  {
   "cell_type": "code",
   "execution_count": 66,
   "metadata": {
    "colab": {
     "base_uri": "https://localhost:8080/"
    },
    "id": "iyxDXcbkPS3w",
    "outputId": "f0eab612-779a-40ae-904e-150067f4e192"
   },
   "outputs": [
    {
     "name": "stdout",
     "output_type": "stream",
     "text": [
      "              precision    recall  f1-score   support\n",
      "\n",
      "           0       1.00      1.00      1.00     24531\n",
      "           1       1.00      1.00      1.00     24891\n",
      "\n",
      "    accuracy                           1.00     49422\n",
      "   macro avg       1.00      1.00      1.00     49422\n",
      "weighted avg       1.00      1.00      1.00     49422\n",
      "\n"
     ]
    }
   ],
   "source": [
    "print(classification_report(pred_tuned_ytest,y_tuned_test))"
   ]
  },
  {
   "cell_type": "code",
   "execution_count": 67,
   "metadata": {
    "colab": {
     "base_uri": "https://localhost:8080/",
     "height": 317
    },
    "id": "j0ZDUh4vcYzi",
    "outputId": "9d1a6435-b2b2-4933-b6f4-b65bf89ada09"
   },
   "outputs": [
    {
     "name": "stdout",
     "output_type": "stream",
     "text": [
      "[[24531     0]\n",
      " [    0 24891]]\n"
     ]
    },
    {
     "data": {
      "text/plain": [
       "<AxesSubplot:>"
      ]
     },
     "execution_count": 67,
     "metadata": {},
     "output_type": "execute_result"
    },
    {
     "data": {
      "image/png": "[encoded data removed]",
      "text/plain": [
       "<Figure size 432x288 with 2 Axes>"
      ]
     },
     "metadata": {
      "needs_background": "light"
     },
     "output_type": "display_data"
    }
   ],
   "source": [
    "cm_tuned=confusion_matrix(y_tuned_test,pred_tuned_ytest)\n",
    "print(cm_tuned)\n",
    "sns.heatmap(cm_tuned,annot=True,cmap='BuPu')"
   ]
  },
  {
   "cell_type": "code",
   "execution_count": 68,
   "metadata": {
    "colab": {
     "base_uri": "https://localhost:8080/",
     "height": 295
    },
    "id": "0JVn1lkNYNhk",
    "outputId": "5d7fe05a-991c-47fb-87d8-85ca6058a2f1"
   },
   "outputs": [
    {
     "data": {
      "image/png": "[encoded data removed]",
      "text/plain": [
       "<Figure size 432x288 with 1 Axes>"
      ]
     },
     "metadata": {
      "needs_background": "light"
     },
     "output_type": "display_data"
    }
   ],
   "source": [
    "from sklearn.metrics import roc_curve\n",
    "fpr, tpr, _ = roc_curve(y_tuned_test, lr_tuned_probability)\n",
    "\n",
    "plt.title('Logistic Regression ROC curve')\n",
    "plt.xlabel('FPR (Precision)')\n",
    "plt.ylabel('TPR (Recall)')\n",
    "\n",
    "plt.plot(fpr,tpr)\n",
    "plt.plot((0,1), ls='dashed',color='black')\n",
    "plt.show()"
   ]
  },
  {
   "cell_type": "markdown",
   "metadata": {
    "id": "DK99AZ_iT_2q"
   },
   "source": [
    "**Decision Tree**"
   ]
  },
  {
   "cell_type": "code",
   "execution_count": 69,
   "metadata": {
    "id": "wGGuNBEoT6It"
   },
   "outputs": [],
   "source": [
    "from sklearn.tree import DecisionTreeClassifier"
   ]
  },
  {
   "cell_type": "code",
   "execution_count": 70,
   "metadata": {
    "id": "C4cAZVsfUQAn"
   },
   "outputs": [],
   "source": [
    "dt_clf = DecisionTreeClassifier()"
   ]
  },
  {
   "cell_type": "code",
   "execution_count": 71,
   "metadata": {
    "colab": {
     "base_uri": "https://localhost:8080/"
    },
    "id": "t1VukTE-T6EC",
    "outputId": "387a954c-3fd8-4557-e1a8-1c236f26cf70"
   },
   "outputs": [
    {
     "data": {
      "text/html": [
       "<style>#sk-container-id-1 {color: black;background-color: white;}#sk-container-id-1 pre{padding: 0;}#sk-container-id-1 div.sk-toggleable {background-color: white;}#sk-container-id-1 label.sk-toggleable__label {cursor: pointer;display: block;width: 100%;margin-bottom: 0;padding: 0.3em;box-sizing: border-box;text-align: center;}#sk-container-id-1 label.sk-toggleable__label-arrow:before {content: \"▸\";float: left;margin-right: 0.25em;color: #696969;}#sk-container-id-1 label.sk-toggleable__label-arrow:hover:before {color: black;}#sk-container-id-1 div.sk-estimator:hover label.sk-toggleable__label-arrow:before {color: black;}#sk-container-id-1 div.sk-toggleable__content {max-height: 0;max-width: 0;overflow: hidden;text-align: left;background-color: #f0f8ff;}#sk-container-id-1 div.sk-toggleable__content pre {margin: 0.2em;color: black;border-radius: 0.25em;background-color: #f0f8ff;}#sk-container-id-1 input.sk-toggleable__control:checked~div.sk-toggleable__content {max-height: 200px;max-width: 100%;overflow: auto;}#sk-container-id-1 input.sk-toggleable__control:checked~label.sk-toggleable__label-arrow:before {content: \"▾\";}#sk-container-id-1 div.sk-estimator input.sk-toggleable__control:checked~label.sk-toggleable__label {background-color: #d4ebff;}#sk-container-id-1 div.sk-label input.sk-toggleable__control:checked~label.sk-toggleable__label {background-color: #d4ebff;}#sk-container-id-1 input.sk-hidden--visually {border: 0;clip: rect(1px 1px 1px 1px);clip: rect(1px, 1px, 1px, 1px);height: 1px;margin: -1px;overflow: hidden;padding: 0;position: absolute;width: 1px;}#sk-container-id-1 div.sk-estimator {font-family: monospace;background-color: #f0f8ff;border: 1px dotted black;border-radius: 0.25em;box-sizing: border-box;margin-bottom: 0.5em;}#sk-container-id-1 div.sk-estimator:hover {background-color: #d4ebff;}#sk-container-id-1 div.sk-parallel-item::after {content: \"\";width: 100%;border-bottom: 1px solid gray;flex-grow: 1;}#sk-container-id-1 div.sk-label:hover label.sk-toggleable__label {background-color: #d4ebff;}#sk-container-id-1 div.sk-serial::before {content: \"\";position: absolute;border-left: 1px solid gray;box-sizing: border-box;top: 0;bottom: 0;left: 50%;z-index: 0;}#sk-container-id-1 div.sk-serial {display: flex;flex-direction: column;align-items: center;background-color: white;padding-right: 0.2em;padding-left: 0.2em;position: relative;}#sk-container-id-1 div.sk-item {position: relative;z-index: 1;}#sk-container-id-1 div.sk-parallel {display: flex;align-items: stretch;justify-content: center;background-color: white;position: relative;}#sk-container-id-1 div.sk-item::before, #sk-container-id-1 div.sk-parallel-item::before {content: \"\";position: absolute;border-left: 1px solid gray;box-sizing: border-box;top: 0;bottom: 0;left: 50%;z-index: -1;}#sk-container-id-1 div.sk-parallel-item {display: flex;flex-direction: column;z-index: 1;position: relative;background-color: white;}#sk-container-id-1 div.sk-parallel-item:first-child::after {align-self: flex-end;width: 50%;}#sk-container-id-1 div.sk-parallel-item:last-child::after {align-self: flex-start;width: 50%;}#sk-container-id-1 div.sk-parallel-item:only-child::after {width: 0;}#sk-container-id-1 div.sk-dashed-wrapped {border: 1px dashed gray;margin: 0 0.4em 0.5em 0.4em;box-sizing: border-box;padding-bottom: 0.4em;background-color: white;}#sk-container-id-1 div.sk-label label {font-family: monospace;font-weight: bold;display: inline-block;line-height: 1.2em;}#sk-container-id-1 div.sk-label-container {text-align: center;}#sk-container-id-1 div.sk-container {/* jupyter's `normalize.less` sets `[hidden] { display: none; }` but bootstrap.min.css set `[hidden] { display: none !important; }` so we also need the `!important` here to be able to override the default hidden behavior on the sphinx rendered scikit-learn.org. See: https://github.com/scikit-learn/scikit-learn/issues/21755 */display: inline-block !important;position: relative;}#sk-container-id-1 div.sk-text-repr-fallback {display: none;}</style><div id=\"sk-container-id-1\" class=\"sk-top-container\"><div class=\"sk-text-repr-fallback\"><pre>DecisionTreeClassifier()</pre><b>In a Jupyter environment, please rerun this cell to show the HTML representation or trust the notebook. <br />On GitHub, the HTML representation is unable to render, please try loading this page with nbviewer.org.</b></div><div class=\"sk-container\" hidden><div class=\"sk-item\"><div class=\"sk-estimator sk-toggleable\"><input class=\"sk-toggleable__control sk-hidden--visually\" id=\"sk-estimator-id-1\" type=\"checkbox\" checked><label for=\"sk-estimator-id-1\" class=\"sk-toggleable__label sk-toggleable__label-arrow\">DecisionTreeClassifier</label><div class=\"sk-toggleable__content\"><pre>DecisionTreeClassifier()</pre></div></div></div></div></div>"
      ],
      "text/plain": [
       "DecisionTreeClassifier()"
      ]
     },
     "execution_count": 71,
     "metadata": {},
     "output_type": "execute_result"
    }
   ],
   "source": [
    "dt_clf.fit(xtrain, ytrain)"
   ]
  },
  {
   "cell_type": "code",
   "execution_count": 72,
   "metadata": {
    "id": "T7QYvWPgUhQE"
   },
   "outputs": [],
   "source": [
    "#Predicting the test set result  \n",
    "y_pred= dt_clf.predict(xtest)\n",
    "acc_dt=accuracy_score(ytest,y_pred)\n",
    "recall_dt=recall_score(ytest,y_pred)\n",
    "precision_dt=precision_score(ytest,y_pred)\n",
    "f1score_dt=f1_score(ytest,y_pred)\n",
    "AUC_dt=roc_auc_score(y_pred,ytest)"
   ]
  },
  {
   "cell_type": "markdown",
   "metadata": {
    "id": "dQ-9EKJcQhyZ"
   },
   "source": [
    "Decison Tree evaluation metrics to assess model performance."
   ]
  },
  {
   "cell_type": "code",
   "execution_count": 73,
   "metadata": {
    "colab": {
     "base_uri": "https://localhost:8080/",
     "height": 317
    },
    "id": "Yy5r6FAgW2SL",
    "outputId": "cead8908-4d38-4dce-d738-2aa251dd0cdd"
   },
   "outputs": [
    {
     "name": "stdout",
     "output_type": "stream",
     "text": [
      "[[19593  4938]\n",
      " [  554 24337]]\n"
     ]
    },
    {
     "data": {
      "text/plain": [
       "<AxesSubplot:>"
      ]
     },
     "execution_count": 73,
     "metadata": {},
     "output_type": "execute_result"
    },
    {
     "data": {
      "image/png": "[encoded data removed]",
      "text/plain": [
       "<Figure size 432x288 with 2 Axes>"
      ]
     },
     "metadata": {
      "needs_background": "light"
     },
     "output_type": "display_data"
    }
   ],
   "source": [
    "cm= confusion_matrix(ytest, y_pred) \n",
    "print(cm)\n",
    "sns.heatmap(cm,annot=True,cmap='BuPu')"
   ]
  },
  {
   "cell_type": "code",
   "execution_count": 74,
   "metadata": {
    "colab": {
     "base_uri": "https://localhost:8080/"
    },
    "id": "a3G3S7G3YCcI",
    "outputId": "43d4a211-0404-40ea-c800-fd61ad07dd03"
   },
   "outputs": [
    {
     "name": "stdout",
     "output_type": "stream",
     "text": [
      "Accuracy score for decision tree :  0.8888753996196026\n",
      "Recall score for decision tree :  0.9777429593025592\n",
      "Precision score for decision tree :  0.8313236549957301\n"
     ]
    }
   ],
   "source": [
    "print(\"Accuracy score for decision tree : \", accuracy_score(ytest,y_pred))\n",
    "print(\"Recall score for decision tree : \", recall_score(ytest,y_pred))\n",
    "print(\"Precision score for decision tree : \", precision_score(ytest,y_pred))"
   ]
  },
  {
   "cell_type": "code",
   "execution_count": 75,
   "metadata": {
    "colab": {
     "base_uri": "https://localhost:8080/"
    },
    "id": "RET8jAr8XeLd",
    "outputId": "64fe66bf-253e-4037-e346-4c83d72c0bb8"
   },
   "outputs": [
    {
     "name": "stdout",
     "output_type": "stream",
     "text": [
      "              precision    recall  f1-score   support\n",
      "\n",
      "           0       0.80      0.97      0.88     20147\n",
      "           1       0.98      0.83      0.90     29275\n",
      "\n",
      "    accuracy                           0.89     49422\n",
      "   macro avg       0.89      0.90      0.89     49422\n",
      "weighted avg       0.90      0.89      0.89     49422\n",
      "\n"
     ]
    }
   ],
   "source": [
    "print(classification_report(y_pred,ytest))"
   ]
  },
  {
   "cell_type": "markdown",
   "metadata": {
    "id": "_hDGufxofHhk"
   },
   "source": [
    "Using Tuned model now for decision tree along with best parameters for Decision tree"
   ]
  },
  {
   "cell_type": "code",
   "execution_count": 76,
   "metadata": {
    "id": "6L8tQbqPfFoT"
   },
   "outputs": [],
   "source": [
    "from sklearn.model_selection import GridSearchCV\n",
    "criterion = ['gini', 'entropy']\n",
    "max_depth = [2,4,6,8,10,12]\n",
    "parameters = dict(dec_tree__criterion=criterion,dec_tree__max_depth=max_depth)\n",
    "clf_GS = GridSearchCV(dt_clf,parameters)"
   ]
  },
  {
   "cell_type": "code",
   "execution_count": 77,
   "metadata": {
    "colab": {
     "base_uri": "https://localhost:8080/"
    },
    "id": "KOfbhZ31mUBZ",
    "outputId": "2342b45d-bcf3-4a8d-fc9d-4090477cb738"
   },
   "outputs": [
    {
     "name": "stdout",
     "output_type": "stream",
     "text": [
      "Accuracy on Model 1: 0.889\n",
      "Accuracy on Model 2: 0.89\n",
      "Accuracy on Model 3: 0.89\n",
      "Accuracy on Model 4: 0.891\n",
      "Accuracy on Model 5: 0.886\n"
     ]
    }
   ],
   "source": [
    "# sets of hyperparameters\n",
    "params_1 = {'criterion': 'gini', 'splitter': 'best', 'max_depth': 50}\n",
    "params_2 = {'criterion': 'entropy', 'splitter': 'random', 'max_depth': 70}\n",
    "params_3 = {'criterion': 'gini', 'splitter': 'random', 'max_depth': 60}\n",
    "params_4 = {'criterion': 'entropy', 'splitter': 'best', 'max_depth': 80}\n",
    "params_5 = {'criterion': 'gini', 'splitter': 'best', 'max_depth': 40}\n",
    "# Separate models\n",
    "model_1 = DecisionTreeClassifier(**params_1)\n",
    "model_2 = DecisionTreeClassifier(**params_2)\n",
    "model_3 = DecisionTreeClassifier(**params_3)\n",
    "model_4 = DecisionTreeClassifier(**params_4)\n",
    "model_5 = DecisionTreeClassifier(**params_5)\n",
    "model_1.fit(xtrain, ytrain)\n",
    "model_2.fit(xtrain, ytrain)\n",
    "model_3.fit(xtrain, ytrain)\n",
    "model_4.fit(xtrain, ytrain)\n",
    "model_5.fit(xtrain, ytrain)\n",
    "# Prediction sets\n",
    "preds_1 = model_1.predict(xtest)\n",
    "preds_2 = model_3.predict(xtest)\n",
    "preds_3 = model_3.predict(xtest)\n",
    "preds_4 = model_4.predict(xtest)\n",
    "preds_5 = model_5.predict(xtest)\n",
    "print(f'Accuracy on Model 1: {round(accuracy_score(ytest, preds_1), 3)}')\n",
    "print(f'Accuracy on Model 2: {round(accuracy_score(ytest, preds_2), 3)}')\n",
    "print(f'Accuracy on Model 3: {round(accuracy_score(ytest, preds_3), 3)}')\n",
    "print(f'Accuracy on Model 4: {round(accuracy_score(ytest, preds_4), 3)}')\n",
    "print(f'Accuracy on Model 5: {round(accuracy_score(ytest, preds_5), 3)}')"
   ]
  },
  {
   "cell_type": "markdown",
   "metadata": {},
   "source": [
    "**Random Forest**"
   ]
  },
  {
   "cell_type": "code",
   "execution_count": 78,
   "metadata": {
    "colab": {
     "base_uri": "https://localhost:8080/"
    },
    "id": "J1wELfEXYLmq",
    "outputId": "600cb4c8-ff83-49fc-b29d-1fa6e502135e"
   },
   "outputs": [
    {
     "name": "stdout",
     "output_type": "stream",
     "text": [
      "0.9283315122819796\n",
      "ROC_AUC Score: 0.9327675932805247\n"
     ]
    }
   ],
   "source": [
    "from sklearn.ensemble import RandomForestClassifier\n",
    "\n",
    "randomforest = RandomForestClassifier()\n",
    "randomforest=randomforest.fit(xtrain, ytrain)\n",
    "y_pred_rf = randomforest.predict(xtest)\n",
    "RF_probability = randomforest.predict_proba(xtest)[:,1]\n",
    "\n",
    "\n",
    "\n",
    "AUC_RF=roc_auc_score(y_pred_rf,ytest)\n",
    "acc_rf=accuracy_score(ytest,y_pred_rf)\n",
    "recall_rf=recall_score(ytest,y_pred_rf)\n",
    "precision_rf=precision_score(ytest,y_pred_rf)\n",
    "f1score_rf=f1_score(ytest,y_pred_rf)\n",
    "\n",
    "print(accuracy_score(y_pred_rf,ytest))\n",
    "print(\"ROC_AUC Score:\",AUC_RF)"
   ]
  },
  {
   "cell_type": "code",
   "execution_count": 79,
   "metadata": {
    "colab": {
     "base_uri": "https://localhost:8080/"
    },
    "id": "SsGqEYd1ZTKF",
    "outputId": "9e936a63-d783-416c-8e46-ac2da4b492a0"
   },
   "outputs": [
    {
     "name": "stdout",
     "output_type": "stream",
     "text": [
      "              precision    recall  f1-score   support\n",
      "\n",
      "           0       0.88      0.97      0.92     22103\n",
      "           1       0.98      0.89      0.93     27319\n",
      "\n",
      "    accuracy                           0.93     49422\n",
      "   macro avg       0.93      0.93      0.93     49422\n",
      "weighted avg       0.93      0.93      0.93     49422\n",
      "\n"
     ]
    }
   ],
   "source": [
    "print(classification_report(y_pred_rf,ytest))"
   ]
  },
  {
   "cell_type": "code",
   "execution_count": 80,
   "metadata": {
    "colab": {
     "base_uri": "https://localhost:8080/",
     "height": 295
    },
    "id": "PaS0qs7HZ-QV",
    "outputId": "80fa8b4a-3980-4b42-9dda-afe66ab28649"
   },
   "outputs": [
    {
     "data": {
      "image/png": "[encoded data removed]",
      "text/plain": [
       "<Figure size 432x288 with 1 Axes>"
      ]
     },
     "metadata": {
      "needs_background": "light"
     },
     "output_type": "display_data"
    }
   ],
   "source": [
    "from sklearn.metrics import roc_curve\n",
    "fpr, tpr, _ = roc_curve(ytest, RF_probability)\n",
    "\n",
    "plt.title('Random Forest ROC curve')\n",
    "plt.xlabel('FPR (Precision)')\n",
    "plt.ylabel('TPR (Recall)')\n",
    "\n",
    "plt.plot(fpr,tpr)\n",
    "plt.plot((0,1), ls='dashed',color='black')\n",
    "plt.show()"
   ]
  },
  {
   "cell_type": "markdown",
   "metadata": {
    "id": "2bVss2G0QoK-"
   },
   "source": [
    "Random Forest -  evaluation metrics to assess model performance."
   ]
  },
  {
   "cell_type": "code",
   "execution_count": 81,
   "metadata": {
    "colab": {
     "base_uri": "https://localhost:8080/",
     "height": 317
    },
    "id": "8PFH_Sx0aDk7",
    "outputId": "b68337f3-b108-449f-ac62-0587e940f7e7"
   },
   "outputs": [
    {
     "name": "stdout",
     "output_type": "stream",
     "text": [
      "[[21546   557]\n",
      " [ 2985 24334]]\n"
     ]
    },
    {
     "data": {
      "text/plain": [
       "<AxesSubplot:>"
      ]
     },
     "execution_count": 81,
     "metadata": {},
     "output_type": "execute_result"
    },
    {
     "data": {
      "image/png": "[encoded data removed]",
      "text/plain": [
       "<Figure size 432x288 with 2 Axes>"
      ]
     },
     "metadata": {
      "needs_background": "light"
     },
     "output_type": "display_data"
    }
   ],
   "source": [
    "cm_rf=confusion_matrix(y_pred_rf,ytest)\n",
    "print(cm_rf)\n",
    "sns.heatmap(cm_rf,annot=True,cmap='RdPu')"
   ]
  },
  {
   "cell_type": "markdown",
   "metadata": {
    "id": "8OAddes5PT2R"
   },
   "source": [
    "**XGBoost**"
   ]
  },
  {
   "cell_type": "code",
   "execution_count": 82,
   "metadata": {
    "colab": {
     "base_uri": "https://localhost:8080/"
    },
    "id": "LlUrQEILPQFJ",
    "outputId": "5ff6dd03-40c4-4ab6-c184-5fe8ed97fccc"
   },
   "outputs": [
    {
     "name": "stdout",
     "output_type": "stream",
     "text": [
      "0.7175549350491683\n",
      "ROC_AUC Score: 0.719703357205628\n"
     ]
    }
   ],
   "source": [
    "from xgboost import XGBClassifier\n",
    "xgb=XGBClassifier()\n",
    "XGB_fit=xgb.fit(xtrain, ytrain)\n",
    "y_xgb_predict = XGB_fit.predict(xtest)\n",
    "XGB_probability = XGB_fit.predict_proba(xtest)[:,1]\n",
    "\n",
    "acc_xgb=accuracy_score(ytest,y_xgb_predict)\n",
    "recall_xgb=recall_score(ytest,y_xgb_predict)\n",
    "precision_xgb=precision_score(ytest,y_xgb_predict)\n",
    "f1score_xgb=f1_score(ytest,y_xgb_predict)\n",
    "\n",
    "AUC_xgb=roc_auc_score(y_xgb_predict,ytest)\n",
    "\n",
    "\n",
    "print(accuracy_score(y_xgb_predict,ytest))\n",
    "print(\"ROC_AUC Score:\",AUC_xgb)"
   ]
  },
  {
   "cell_type": "code",
   "execution_count": 83,
   "metadata": {
    "colab": {
     "base_uri": "https://localhost:8080/"
    },
    "id": "pgOrulbbPrzJ",
    "outputId": "60e213ad-b96a-4613-94da-04739ea25a81"
   },
   "outputs": [
    {
     "name": "stdout",
     "output_type": "stream",
     "text": [
      "              precision    recall  f1-score   support\n",
      "\n",
      "           0       0.66      0.74      0.70     22054\n",
      "           1       0.77      0.70      0.73     27368\n",
      "\n",
      "    accuracy                           0.72     49422\n",
      "   macro avg       0.72      0.72      0.72     49422\n",
      "weighted avg       0.72      0.72      0.72     49422\n",
      "\n"
     ]
    }
   ],
   "source": [
    "print(classification_report(y_xgb_predict,ytest))"
   ]
  },
  {
   "cell_type": "markdown",
   "metadata": {
    "id": "tbxyX_A5RJqL"
   },
   "source": [
    "## 6.) Compare which methods work best based on the evaluation metrics mentioned in the previous point."
   ]
  },
  {
   "cell_type": "code",
   "execution_count": 84,
   "metadata": {
    "colab": {
     "base_uri": "https://localhost:8080/",
     "height": 144
    },
    "id": "EecMtAoPBGvA",
    "outputId": "91b1e3f3-c98e-4395-ef3b-fadf7c75af7b"
   },
   "outputs": [
    {
     "data": {
      "text/html": [
       "<div>\n",
       "<style scoped>\n",
       "    .dataframe tbody tr th:only-of-type {\n",
       "        vertical-align: middle;\n",
       "    }\n",
       "\n",
       "    .dataframe tbody tr th {\n",
       "        vertical-align: top;\n",
       "    }\n",
       "\n",
       "    .dataframe thead th {\n",
       "        text-align: right;\n",
       "    }\n",
       "</style>\n",
       "<table border=\"1\" class=\"dataframe\">\n",
       "  <thead>\n",
       "    <tr style=\"text-align: right;\">\n",
       "      <th></th>\n",
       "      <th>Accuracy</th>\n",
       "      <th>Recall</th>\n",
       "      <th>Precision</th>\n",
       "      <th>f1_score</th>\n",
       "      <th>ROC_AUC</th>\n",
       "    </tr>\n",
       "  </thead>\n",
       "  <tbody>\n",
       "    <tr>\n",
       "      <th>Logistic regression</th>\n",
       "      <td>0.591538</td>\n",
       "      <td>0.594392</td>\n",
       "      <td>0.594511</td>\n",
       "      <td>0.594451</td>\n",
       "      <td>0.591517</td>\n",
       "    </tr>\n",
       "    <tr>\n",
       "      <th>Randomforest</th>\n",
       "      <td>0.928332</td>\n",
       "      <td>0.977622</td>\n",
       "      <td>0.890735</td>\n",
       "      <td>0.932159</td>\n",
       "      <td>0.932768</td>\n",
       "    </tr>\n",
       "    <tr>\n",
       "      <th>Decision Tree</th>\n",
       "      <td>0.888875</td>\n",
       "      <td>0.977743</td>\n",
       "      <td>0.831324</td>\n",
       "      <td>0.898608</td>\n",
       "      <td>0.901913</td>\n",
       "    </tr>\n",
       "  </tbody>\n",
       "</table>\n",
       "</div>"
      ],
      "text/plain": [
       "                     Accuracy    Recall  Precision  f1_score   ROC_AUC\n",
       "Logistic regression  0.591538  0.594392   0.594511  0.594451  0.591517\n",
       "Randomforest         0.928332  0.977622   0.890735  0.932159  0.932768\n",
       "Decision Tree        0.888875  0.977743   0.831324  0.898608  0.901913"
      ]
     },
     "execution_count": 84,
     "metadata": {},
     "output_type": "execute_result"
    }
   ],
   "source": [
    "ind=['Logistic regression','Randomforest','Decision Tree']\n",
    "data={\"Accuracy\":[acc_lr,acc_rf,acc_dt],\"Recall\":[recall_lr,recall_rf,recall_dt],\"Precision\":[precision_lr,precision_rf,precision_dt],\n",
    "    'f1_score':[f1score_lr,f1score_rf,f1score_dt],\"ROC_AUC\":[AUC_LR,AUC_RF,AUC_dt]}\n",
    "result=pd.DataFrame(data=data,index=ind)\n",
    "result"
   ]
  },
  {
   "cell_type": "code",
   "execution_count": null,
   "metadata": {},
   "outputs": [],
   "source": []
  }
 ],
 "metadata": {
  "colab": {
   "collapsed_sections": [
    "XwHPDElbNAAY",
    "ieDn2jt1NAAb",
    "ieB2zmdYNAAe",
    "UsCjTvIcNAAh"
   ],
   "name": "CTR.ipynb",
   "provenance": []
  },
  "kernelspec": {
   "display_name": "Python 3",
   "language": "python",
   "name": "python3"
  },
  "language_info": {
   "codemirror_mode": {
    "name": "ipython",
    "version": 3
   },
   "file_extension": ".py",
   "mimetype": "text/x-python",
   "name": "python",
   "nbconvert_exporter": "python",
   "pygments_lexer": "ipython3",
   "version": "3.8.8"
  }
 },
 "nbformat": 4,
 "nbformat_minor": 1
}
